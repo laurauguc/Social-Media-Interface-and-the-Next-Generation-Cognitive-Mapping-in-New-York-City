{
 "cells": [
  {
   "cell_type": "markdown",
   "metadata": {},
   "source": [
    "# Topic Detections Using WordNet"
   ]
  },
  {
   "cell_type": "code",
   "execution_count": 1,
   "metadata": {
    "collapsed": true
   },
   "outputs": [],
   "source": [
    "from nltk.corpus import wordnet as wn\n",
    "#def main():\n",
    "   \n",
    "            \n",
    "#if __name__ == \"__main__\": main()"
   ]
  },
  {
   "cell_type": "code",
   "execution_count": 2,
   "metadata": {
    "collapsed": false
   },
   "outputs": [],
   "source": [
    "#for synset in list(wn.all_synsets(wn.NOUN)):\n",
    "#    print(synset)"
   ]
  },
  {
   "cell_type": "markdown",
   "metadata": {},
   "source": [
    "## Find hyponyms"
   ]
  },
  {
   "cell_type": "code",
   "execution_count": 3,
   "metadata": {
    "collapsed": true
   },
   "outputs": [],
   "source": [
    "def find_hyponyms(word, meaning_n):\n",
    "    word = wn.synsets(word)[meaning_n]\n",
    "    hyp_current = word.hyponyms()\n",
    "    hyp_all = list(hyp_current)\n",
    "    hyp_lower = []\n",
    "    \n",
    "    count = 0\n",
    "\n",
    "    while count < len(hyp_all):  \n",
    "        count = len(hyp_all)\n",
    "        for i in range(len(hyp_current)):\n",
    "            hyp_lower.append(hyp_current[i].hyponyms())\n",
    "        \n",
    "        hyp_current = list(y for x in hyp_lower for y in x)\n",
    "        hyp_all.extend(hyp_current)\n",
    "        hyp_lower = list()    \n",
    "    \n",
    "    return hyp_all"
   ]
  },
  {
   "cell_type": "code",
   "execution_count": 4,
   "metadata": {
    "collapsed": false
   },
   "outputs": [],
   "source": [
    "# find_hyponyms(\"plant\",1)"
   ]
  },
  {
   "cell_type": "markdown",
   "metadata": {},
   "source": [
    "## Find Meronyms"
   ]
  },
  {
   "cell_type": "code",
   "execution_count": 13,
   "metadata": {
    "collapsed": true
   },
   "outputs": [],
   "source": [
    "def find_meronyms(word, meaning_n):\n",
    "    word = wn.synsets(word)[meaning_n]\n",
    "    mer_current = word.part_meronyms()\n",
    "    mer_all = list(mer_current)\n",
    "    mer_lower = []\n",
    "    \n",
    "    count = 0\n",
    "\n",
    "    while count < len(mer_all):  \n",
    "        count = len(mer_all)\n",
    "        for i in range(len(mer_current)):\n",
    "            mer_lower.append(mer_current[i].part_meronyms())\n",
    "        \n",
    "        mer_current = list(y for x in mer_lower for y in x)\n",
    "        mer_all.extend(mer_current)\n",
    "        mer_lower = list()    \n",
    "    \n",
    "    return mer_all"
   ]
  },
  {
   "cell_type": "markdown",
   "metadata": {},
   "source": [
    "## Find hyponyms of meronyms and meronyms of hyponyms"
   ]
  },
  {
   "cell_type": "code",
   "execution_count": 14,
   "metadata": {
    "collapsed": true
   },
   "outputs": [],
   "source": [
    "def find_meronyms_hyponyms(word, meaning_n):\n",
    "    word = wn.synsets(word)[meaning_n]\n",
    "    #print(word.definition())\n",
    "    current = word.part_meronyms()\n",
    "    current.extend(word.hyponyms())\n",
    "    \n",
    "    lower = []\n",
    "    all = list(current)\n",
    "    \n",
    "    count = 0\n",
    "    \n",
    "    while count < len(all):\n",
    "        count = len(all)\n",
    "        for i in range(len(current)):\n",
    "            if int(str(word)[-4:-2]) > 2: continue # first 2 meanings\n",
    "            lower.append(current[i].part_meronyms())\n",
    "            lower.append(current[i].hyponyms())\n",
    "        \n",
    "        current = list(y for x in lower for y in x)\n",
    "        all.extend(current)\n",
    "        lower = list()\n",
    "            \n",
    "    return all"
   ]
  },
  {
   "cell_type": "code",
   "execution_count": 15,
   "metadata": {
    "collapsed": false
   },
   "outputs": [
    {
     "data": {
      "text/plain": [
       "11"
      ]
     },
     "execution_count": 15,
     "metadata": {},
     "output_type": "execute_result"
    }
   ],
   "source": [
    "len(find_meronyms_hyponyms(\"travel\",4))"
   ]
  },
  {
   "cell_type": "code",
   "execution_count": 16,
   "metadata": {
    "collapsed": false
   },
   "outputs": [
    {
     "data": {
      "text/plain": [
       "Synset('globe-trot.v.01')"
      ]
     },
     "execution_count": 16,
     "metadata": {},
     "output_type": "execute_result"
    }
   ],
   "source": [
    "find_meronyms_hyponyms(\"travel\",4)[0]"
   ]
  },
  {
   "cell_type": "code",
   "execution_count": null,
   "metadata": {
    "collapsed": false
   },
   "outputs": [],
   "source": []
  },
  {
   "cell_type": "code",
   "execution_count": null,
   "metadata": {
    "collapsed": false
   },
   "outputs": [],
   "source": []
  },
  {
   "cell_type": "markdown",
   "metadata": {},
   "source": [
    "## Synonyms"
   ]
  },
  {
   "cell_type": "markdown",
   "metadata": {},
   "source": [
    "Synonims\n",
    "\n",
    "Morphy \n",
    "http://www.nltk.org/howto/wordnet.html"
   ]
  },
  {
   "cell_type": "code",
   "execution_count": 7,
   "metadata": {
    "collapsed": false
   },
   "outputs": [
    {
     "data": {
      "text/plain": [
       "Synset('dog.n.01')"
      ]
     },
     "execution_count": 7,
     "metadata": {},
     "output_type": "execute_result"
    }
   ],
   "source": [
    "dog = wn.synset('dog.n.01')\n",
    "dog"
   ]
  },
  {
   "cell_type": "markdown",
   "metadata": {},
   "source": [
    "## Common Usages\n",
    "\n",
    "Note from: https://wordnet.princeton.edu/wordnet/frequently-asked-questions/for-linguists/\n",
    "\n",
    "Q.  How are the senses in WordNet ordered?\n",
    "A. WordNet senses are ordered using sparse data from semantically tagged text. The order of the senses is given simply so that some of the most common uses are listed above others (and those for which there is no data are randomly ordered). The sense numbers and ordering of senses in WordNet should be considered random for research purposes."
   ]
  },
  {
   "cell_type": "code",
   "execution_count": 8,
   "metadata": {
    "collapsed": false
   },
   "outputs": [
    {
     "data": {
      "text/plain": [
       "Synset('hood.n.02')"
      ]
     },
     "execution_count": 8,
     "metadata": {},
     "output_type": "execute_result"
    }
   ],
   "source": [
    "all = find_meronyms_hyponyms(\"plant\",1)\n",
    "all[0]"
   ]
  },
  {
   "cell_type": "code",
   "execution_count": 9,
   "metadata": {
    "collapsed": false
   },
   "outputs": [
    {
     "data": {
      "text/plain": [
       "True"
      ]
     },
     "execution_count": 9,
     "metadata": {},
     "output_type": "execute_result"
    }
   ],
   "source": [
    "int(str(all[0])[-4:-2])< 3 # first 2 meanings"
   ]
  },
  {
   "cell_type": "markdown",
   "metadata": {},
   "source": [
    "## Get bag of Words"
   ]
  },
  {
   "cell_type": "code",
   "execution_count": 17,
   "metadata": {
    "collapsed": false
   },
   "outputs": [],
   "source": [
    "# unique, cleaned words\n",
    "\n",
    "def bag_words(word, meaning_n):\n",
    "    words_list = []\n",
    "\n",
    "    words = find_meronyms_hyponyms(word, meaning_n)\n",
    "    for i in range(len(words)):\n",
    "        word_add = words[i]\n",
    "        if int(str(word_add)[-4:-2]) > 1: continue # first meaning\n",
    "        try:\n",
    "            if wn.lemma(\"{}.{}\".format(word_add.name(), word_add.name()[:-5])).count() < 1: continue # latest change (note much smaller number of words)\n",
    "        except: pass\n",
    "        word_add = word_add.name()[:-5]\n",
    "        word_add = word_add.replace(\"_\", \" \")\n",
    "        words_list.append(word_add)\n",
    "    \n",
    "    words_list.append(word)\n",
    "    words_list = list(set(words_list))\n",
    "    \n",
    "    return words_list"
   ]
  },
  {
   "cell_type": "code",
   "execution_count": 24,
   "metadata": {
    "collapsed": false
   },
   "outputs": [
    {
     "data": {
      "text/plain": [
       "['visit', 'travel', 'tour']"
      ]
     },
     "execution_count": 24,
     "metadata": {},
     "output_type": "execute_result"
    }
   ],
   "source": [
    "bag_words(\"travel\", 4)"
   ]
  },
  {
   "cell_type": "code",
   "execution_count": 18,
   "metadata": {
    "collapsed": false
   },
   "outputs": [
    {
     "data": {
      "text/plain": [
       "0"
      ]
     },
     "execution_count": 18,
     "metadata": {},
     "output_type": "execute_result"
    }
   ],
   "source": [
    "wn.lemma(\"acrogen.n.01.acrogen\").count()"
   ]
  },
  {
   "cell_type": "code",
   "execution_count": 14,
   "metadata": {
    "collapsed": false
   },
   "outputs": [
    {
     "data": {
      "text/plain": [
       "(821, 7723)"
      ]
     },
     "execution_count": 14,
     "metadata": {},
     "output_type": "execute_result"
    }
   ],
   "source": [
    "len(bag_words(\"plant\",1)), len(find_meronyms_hyponyms(\"plant\", 1))"
   ]
  },
  {
   "cell_type": "markdown",
   "metadata": {},
   "source": [
    "Issues to resolve: shoot is also a verb (more commonly used), simple is adj\n",
    "\n",
    "check whether last attempt makes sense: create list of words and their counts.\n",
    "\n",
    "why is lemon eliminated? : check lemma count\n",
    "\n",
    "try: natural_objects"
   ]
  },
  {
   "cell_type": "code",
   "execution_count": 12,
   "metadata": {
    "collapsed": false
   },
   "outputs": [
    {
     "name": "stdout",
     "output_type": "stream",
     "text": [
      "lemon.n.01\n"
     ]
    }
   ],
   "source": [
    "word = wn.synsets(\"lemon\")[0]\n",
    "print(word.name())"
   ]
  },
  {
   "cell_type": "code",
   "execution_count": 13,
   "metadata": {
    "collapsed": false
   },
   "outputs": [
    {
     "data": {
      "text/plain": [
       "4"
      ]
     },
     "execution_count": 13,
     "metadata": {},
     "output_type": "execute_result"
    }
   ],
   "source": [
    "wn.lemma(\"{}.{}\".format(word.name(), word.name()[:-5])).count()"
   ]
  },
  {
   "cell_type": "markdown",
   "metadata": {},
   "source": [
    "## Export List"
   ]
  },
  {
   "cell_type": "markdown",
   "metadata": {},
   "source": [
    "#### Plant"
   ]
  },
  {
   "cell_type": "code",
   "execution_count": 420,
   "metadata": {
    "collapsed": false
   },
   "outputs": [
    {
     "name": "stdout",
     "output_type": "stream",
     "text": [
      "plant\n",
      "821\n"
     ]
    }
   ],
   "source": [
    "plant_list = bag_words(\"plant\", 1)\n",
    "print(len(plant_list))\n",
    "\n",
    "plant_category = open('plant_test5.txt', 'w')\n",
    "\n",
    "for item in plant_list:\n",
    "  plant_category.write(\"%s,\" % item)\n",
    "\n",
    "plant_category.close()"
   ]
  },
  {
   "cell_type": "markdown",
   "metadata": {},
   "source": [
    "#### Natural Objects"
   ]
  },
  {
   "cell_type": "code",
   "execution_count": 394,
   "metadata": {
    "collapsed": false
   },
   "outputs": [],
   "source": [
    "nature_list = bag_words(\"natural_objects\", 0)"
   ]
  },
  {
   "cell_type": "code",
   "execution_count": 395,
   "metadata": {
    "collapsed": false
   },
   "outputs": [
    {
     "data": {
      "text/plain": [
       "350"
      ]
     },
     "execution_count": 395,
     "metadata": {},
     "output_type": "execute_result"
    }
   ],
   "source": [
    "len(nature_list)"
   ]
  },
  {
   "cell_type": "markdown",
   "metadata": {},
   "source": [
    "# Explore word"
   ]
  },
  {
   "cell_type": "markdown",
   "metadata": {},
   "source": [
    "## Common usages & meaning"
   ]
  },
  {
   "cell_type": "code",
   "execution_count": 10,
   "metadata": {
    "collapsed": false
   },
   "outputs": [
    {
     "name": "stdout",
     "output_type": "stream",
     "text": [
      "0 ) 7 - the act of going from one place to another\n",
      "1 ) 1 - a movement through space that changes the location of something\n",
      "2 ) 0 - self-propelled movement\n",
      "3 ) 34 - change location; move, travel, or proceed, also metaphorically\n",
      "4 ) 9 - undertake a journey or trip\n",
      "5 ) 3 - make a trip for pleasure\n",
      "6 ) 2 - travel upon or across\n",
      "7 ) 1 - undergo transportation as in a vehicle\n",
      "8 ) 0 - travel from place to place, as for the purpose of finding work, preaching, or acting as a judge\n"
     ]
    }
   ],
   "source": [
    "word = \"travel\"\n",
    "\n",
    "synset_w = wn.synsets(word)\n",
    "\n",
    "for i in range(len(synset_w)):\n",
    "    print(i, \")\", wn.lemma(\"{}.{}\".format(str(wn.synsets(word)[i]).split(\"'\")[1], word)).count(), \"-\", wn.synsets(word)[i].definition())"
   ]
  },
  {
   "cell_type": "code",
   "execution_count": 11,
   "metadata": {
    "collapsed": false
   },
   "outputs": [
    {
     "data": {
      "text/plain": [
       "False"
      ]
     },
     "execution_count": 11,
     "metadata": {},
     "output_type": "execute_result"
    }
   ],
   "source": [
    "wn.lemma(\"{}.{}\".format(str(wn.synsets(word)[i]).split(\"'\")[1], word)).count() > 0"
   ]
  },
  {
   "cell_type": "markdown",
   "metadata": {},
   "source": [
    "## Find hypernym"
   ]
  },
  {
   "cell_type": "code",
   "execution_count": 12,
   "metadata": {
    "collapsed": false
   },
   "outputs": [
    {
     "name": "stdout",
     "output_type": "stream",
     "text": [
      "Synset('plant.v.01')\n",
      "Synset('put.v.01')\n",
      "Synset('move.v.02')\n"
     ]
    },
    {
     "ename": "IndexError",
     "evalue": "list index out of range",
     "output_type": "error",
     "traceback": [
      "\u001b[0;31m---------------------------------------------------------------------------\u001b[0m",
      "\u001b[0;31mIndexError\u001b[0m                                Traceback (most recent call last)",
      "\u001b[0;32m<ipython-input-12-a921c40bc5c0>\u001b[0m in \u001b[0;36m<module>\u001b[0;34m()\u001b[0m\n\u001b[1;32m     10\u001b[0m \u001b[0mprint\u001b[0m\u001b[0;34m(\u001b[0m\u001b[0mword\u001b[0m\u001b[0;34m)\u001b[0m\u001b[0;34m\u001b[0m\u001b[0m\n\u001b[1;32m     11\u001b[0m \u001b[0;34m\u001b[0m\u001b[0m\n\u001b[0;32m---> 12\u001b[0;31m \u001b[0mword\u001b[0m \u001b[0;34m=\u001b[0m \u001b[0mword\u001b[0m\u001b[0;34m.\u001b[0m\u001b[0mhypernyms\u001b[0m\u001b[0;34m(\u001b[0m\u001b[0;34m)\u001b[0m\u001b[0;34m[\u001b[0m\u001b[0;36m0\u001b[0m\u001b[0;34m]\u001b[0m\u001b[0;34m\u001b[0m\u001b[0m\n\u001b[0m\u001b[1;32m     13\u001b[0m \u001b[0mprint\u001b[0m\u001b[0;34m(\u001b[0m\u001b[0mword\u001b[0m\u001b[0;34m)\u001b[0m\u001b[0;34m\u001b[0m\u001b[0m\n\u001b[1;32m     14\u001b[0m \u001b[0;34m\u001b[0m\u001b[0m\n",
      "\u001b[0;31mIndexError\u001b[0m: list index out of range"
     ]
    }
   ],
   "source": [
    "meaning_n = 4\n",
    "word = \"plant\"\n",
    "\n",
    "word = wn.synsets(word)[meaning_n]\n",
    "print(word)\n",
    "word = word.hypernyms()[0]\n",
    "print(word)\n",
    "\n",
    "word = word.hypernyms()[0]\n",
    "print(word)\n",
    "\n",
    "word = word.hypernyms()[0]\n",
    "print(word)\n",
    "\n",
    "word = word.hypernyms()[0]\n",
    "print(word)\n",
    "\n",
    "word = word.hypernyms()[0]\n",
    "print(word)\n",
    "\n",
    "word = word.hypernyms()[0]\n",
    "print(word)\n",
    "\n",
    "word = word.hypernyms()[0]\n",
    "print(word)"
   ]
  },
  {
   "cell_type": "markdown",
   "metadata": {},
   "source": [
    "## Random word generator"
   ]
  },
  {
   "cell_type": "code",
   "execution_count": null,
   "metadata": {
    "collapsed": true
   },
   "outputs": [],
   "source": [
    "import random\n",
    "\n",
    "words = bag_words(\"plant\", 1)"
   ]
  },
  {
   "cell_type": "code",
   "execution_count": null,
   "metadata": {
    "collapsed": true
   },
   "outputs": [],
   "source": [
    "random.shuffle(words)\n",
    "words[:10]"
   ]
  },
  {
   "cell_type": "markdown",
   "metadata": {},
   "source": [
    "## Number of words found"
   ]
  },
  {
   "cell_type": "code",
   "execution_count": 481,
   "metadata": {
    "collapsed": false
   },
   "outputs": [
    {
     "data": {
      "text/plain": [
       "4699"
      ]
     },
     "execution_count": 481,
     "metadata": {},
     "output_type": "execute_result"
    }
   ],
   "source": [
    "len(find_hyponyms(\"plant\", 1))"
   ]
  },
  {
   "cell_type": "code",
   "execution_count": 77,
   "metadata": {
    "collapsed": false
   },
   "outputs": [
    {
     "data": {
      "text/plain": [
       "2"
      ]
     },
     "execution_count": 77,
     "metadata": {},
     "output_type": "execute_result"
    }
   ],
   "source": [
    "len(find_meronyms(\"plant\", 1))"
   ]
  },
  {
   "cell_type": "code",
   "execution_count": 501,
   "metadata": {
    "collapsed": false
   },
   "outputs": [
    {
     "data": {
      "text/plain": [
       "7723"
      ]
     },
     "execution_count": 501,
     "metadata": {},
     "output_type": "execute_result"
    }
   ],
   "source": [
    "len(find_meronyms_hyponyms(\"plant\", 1))"
   ]
  },
  {
   "cell_type": "markdown",
   "metadata": {},
   "source": [
    "## Find word in list"
   ]
  },
  {
   "cell_type": "code",
   "execution_count": 228,
   "metadata": {
    "collapsed": false
   },
   "outputs": [
    {
     "data": {
      "text/plain": [
       "[Synset('hood.n.02'),\n",
       " Synset('plant_part.n.01'),\n",
       " Synset('acrogen.n.01'),\n",
       " Synset('air_plant.n.01'),\n",
       " Synset('annual.n.01'),\n",
       " Synset('apomict.n.01'),\n",
       " Synset('aquatic.n.01'),\n",
       " Synset('autophyte.n.01'),\n",
       " Synset('biennial.n.01'),\n",
       " Synset('crop.n.02')]"
      ]
     },
     "execution_count": 228,
     "metadata": {},
     "output_type": "execute_result"
    }
   ],
   "source": [
    "find_meronyms_hyponyms(\"plant\",1)[:10]"
   ]
  },
  {
   "cell_type": "code",
   "execution_count": 231,
   "metadata": {
    "collapsed": false
   },
   "outputs": [
    {
     "data": {
      "text/plain": [
       "True"
      ]
     },
     "execution_count": 231,
     "metadata": {},
     "output_type": "execute_result"
    }
   ],
   "source": [
    "wn.synsets(\"hood\")[1] in find_meronyms_hyponyms(\"plant\",1)"
   ]
  },
  {
   "cell_type": "code",
   "execution_count": 244,
   "metadata": {
    "collapsed": false
   },
   "outputs": [],
   "source": [
    "plant_list = find_meronyms_hyponyms(\"plant\",1)\n",
    "\n",
    "plant_category = open('plant_hypo_mero.txt', 'w')\n",
    "\n",
    "for item in plant_list:\n",
    "  plant_category.write(\"%s,\" % item)\n",
    "\n",
    "plant_category.close()"
   ]
  },
  {
   "cell_type": "markdown",
   "metadata": {},
   "source": [
    "#### OTHER"
   ]
  },
  {
   "cell_type": "markdown",
   "metadata": {},
   "source": [
    "__arguments search__"
   ]
  },
  {
   "cell_type": "code",
   "execution_count": 290,
   "metadata": {
    "collapsed": false
   },
   "outputs": [
    {
     "data": {
      "text/plain": [
       "['ADJ',\n",
       " 'ADJ_SAT',\n",
       " 'ADV',\n",
       " 'MORPHOLOGICAL_SUBSTITUTIONS',\n",
       " 'NOUN',\n",
       " 'VERB',\n",
       " '_ENCODING',\n",
       " '_FILEMAP',\n",
       " '_FILES',\n",
       " '__class__',\n",
       " '__delattr__',\n",
       " '__dict__',\n",
       " '__dir__',\n",
       " '__doc__',\n",
       " '__eq__',\n",
       " '__format__',\n",
       " '__ge__',\n",
       " '__getattribute__',\n",
       " '__gt__',\n",
       " '__hash__',\n",
       " '__init__',\n",
       " '__le__',\n",
       " '__lt__',\n",
       " '__module__',\n",
       " '__ne__',\n",
       " '__new__',\n",
       " '__reduce__',\n",
       " '__reduce_ex__',\n",
       " '__repr__',\n",
       " '__setattr__',\n",
       " '__sizeof__',\n",
       " '__str__',\n",
       " '__subclasshook__',\n",
       " '__unicode__',\n",
       " '__weakref__',\n",
       " '_compute_max_depth',\n",
       " '_data_file',\n",
       " '_data_file_map',\n",
       " '_encoding',\n",
       " '_exception_map',\n",
       " '_fileids',\n",
       " '_get_root',\n",
       " '_key_count_file',\n",
       " '_key_synset_file',\n",
       " '_lang_data',\n",
       " '_lemma_pos_offset_map',\n",
       " '_lexnames',\n",
       " '_load_exception_map',\n",
       " '_load_lang_data',\n",
       " '_load_lemma_pos_offset_map',\n",
       " '_max_depth',\n",
       " '_morphy',\n",
       " '_omw_reader',\n",
       " '_pos_names',\n",
       " '_pos_numbers',\n",
       " '_root',\n",
       " '_synset_from_pos_and_line',\n",
       " '_synset_from_pos_and_offset',\n",
       " '_synset_offset_cache',\n",
       " '_tagset',\n",
       " '_unload',\n",
       " 'abspath',\n",
       " 'abspaths',\n",
       " 'all_lemma_names',\n",
       " 'all_synsets',\n",
       " 'citation',\n",
       " 'encoding',\n",
       " 'ensure_loaded',\n",
       " 'fileids',\n",
       " 'get_version',\n",
       " 'ic',\n",
       " 'jcn_similarity',\n",
       " 'langs',\n",
       " 'lch_similarity',\n",
       " 'lemma',\n",
       " 'lemma_count',\n",
       " 'lemma_from_key',\n",
       " 'lemmas',\n",
       " 'license',\n",
       " 'lin_similarity',\n",
       " 'morphy',\n",
       " 'of2ss',\n",
       " 'open',\n",
       " 'path_similarity',\n",
       " 'readme',\n",
       " 'res_similarity',\n",
       " 'root',\n",
       " 'ss2of',\n",
       " 'synset',\n",
       " 'synsets',\n",
       " 'unicode_repr',\n",
       " 'words',\n",
       " 'wup_similarity']"
      ]
     },
     "execution_count": 290,
     "metadata": {},
     "output_type": "execute_result"
    }
   ],
   "source": [
    "dir(wn)"
   ]
  },
  {
   "cell_type": "code",
   "execution_count": 279,
   "metadata": {
    "collapsed": true
   },
   "outputs": [],
   "source": [
    "# morphological substitutions, meronymies"
   ]
  },
  {
   "cell_type": "code",
   "execution_count": 284,
   "metadata": {
    "collapsed": false
   },
   "outputs": [
    {
     "name": "stdout",
     "output_type": "stream",
     "text": [
      "Synset('tree.n.01')\n",
      "[Synset('woody_plant.n.01')]\n",
      "[Synset('aalii.n.01'), Synset('acacia.n.01'), Synset('african_walnut.n.01'), Synset('albizzia.n.01'), Synset('alder.n.02'), Synset('angelim.n.01'), Synset('angiospermous_tree.n.01'), Synset('anise_tree.n.01'), Synset('arbor.n.01'), Synset('aroeira_blanca.n.01'), Synset('ash.n.02'), Synset('australian_nettle.n.01'), Synset('balata.n.02'), Synset('bayberry.n.01'), Synset('bean_tree.n.01'), Synset('beech.n.01'), Synset('birch.n.02'), Synset('bitterwood_tree.n.01'), Synset('black_mangrove.n.01'), Synset('blackwood.n.02'), Synset('bloodwood_tree.n.01'), Synset('bonduc.n.02'), Synset('bonsai.n.01'), Synset('bottle-tree.n.01'), Synset('brazilian_ironwood.n.01'), Synset('brazilian_pepper_tree.n.01'), Synset('brazilwood.n.02'), Synset('breakax.n.01'), Synset('burma_padauk.n.01'), Synset('button_tree.n.01'), Synset('cabbage_tree.n.03'), Synset('calaba.n.01'), Synset('calabash.n.02'), Synset('camwood.n.01'), Synset('caracolito.n.01'), Synset('carib_wood.n.01'), Synset('cassia.n.01'), Synset('casuarina.n.01'), Synset('chaulmoogra.n.01'), Synset('chestnut.n.02'), Synset('chinaberry.n.02'), Synset('chinese_parasol_tree.n.01'), Synset('christmas_bush.n.01'), Synset('cinchona.n.02'), Synset('clusia.n.01'), Synset('cockspur.n.02'), Synset('cocobolo.n.01'), Synset('coffee.n.02'), Synset('conacaste.n.01'), Synset('coral_tree.n.01'), Synset('coralwood.n.01'), Synset('cork_tree.n.01'), Synset('dagame.n.01'), Synset('devilwood.n.01'), Synset('dhak.n.01'), Synset('dhawa.n.01'), Synset('dipterocarp.n.01'), Synset('dita.n.01'), Synset('divi-divi.n.02'), Synset('ebony.n.03'), Synset('elm.n.01'), Synset('fever_tree.n.01'), Synset('fig_tree.n.01'), Synset('fringe_tree.n.01'), Synset('giant_chinkapin.n.01'), Synset('gliricidia.n.01'), Synset('granadilla_tree.n.01'), Synset('guama.n.01'), Synset('guinea_pepper.n.02'), Synset('gum_tree.n.01'), Synset('gutta-percha_tree.n.01'), Synset('gutta-percha_tree.n.02'), Synset('gymnospermous_tree.n.01'), Synset('hackberry.n.01'), Synset('hazel.n.01'), Synset('hop_hornbeam.n.01'), Synset('hornbeam.n.01'), Synset('hydnocarpus_laurifolia.n.01'), Synset('ice-cream_bean.n.01'), Synset('idesia.n.01'), Synset('incense_tree.n.01'), Synset('indian_beech.n.01'), Synset('inga.n.01'), Synset('ivory_tree.n.01'), Synset('jamaica_dogwood.n.01'), Synset('jamaican_cherry.n.01'), Synset('japanese_pagoda_tree.n.01'), Synset('kentucky_coffee_tree.n.01'), Synset('ketembilla.n.01'), Synset('keurboom.n.01'), Synset('keurboom.n.02'), Synset('kingwood.n.02'), Synset('kino.n.02'), Synset('kowhai.n.01'), Synset('lacebark.n.01'), Synset('lancewood.n.02'), Synset('lanseh_tree.n.01'), Synset('laurelwood.n.01'), Synset('lead_tree.n.01'), Synset('lemonwood.n.02'), Synset('lepidobotrys.n.01'), Synset('linden.n.02'), Synset('locust_tree.n.01'), Synset('mahogany.n.02'), Synset('manila_tamarind.n.01'), Synset('marblewood.n.02'), Synset('maria.n.02'), Synset('marmalade_tree.n.01'), Synset('mayeng.n.01'), Synset('mescal_bean.n.01'), Synset('millettia.n.01'), Synset('montezuma.n.01'), Synset('msasa.n.01'), Synset('nakedwood.n.01'), Synset('necklace_tree.n.01'), Synset('neem.n.01'), Synset('nitta_tree.n.01'), Synset('oak.n.02'), Synset('oak_chestnut.n.01'), Synset('obeche.n.02'), Synset('opepe.n.01'), Synset('padauk.n.01'), Synset('palm.n.03'), Synset('palo_verde.n.01'), Synset('pandanus.n.02'), Synset('pepper_tree.n.01'), Synset('pepper_tree.n.02'), Synset('peruvian_balsam.n.01'), Synset('plane_tree.n.01'), Synset('pollard.n.01'), Synset('poon.n.02'), Synset('prickly_ash.n.01'), Synset('prickly_ash.n.02'), Synset('princewood.n.01'), Synset('puka.n.02'), Synset('quandong.n.01'), Synset('quandong.n.03'), Synset('quira.n.02'), Synset('red_sandalwood.n.02'), Synset('red_silk-cotton_tree.n.01'), Synset('ribbon_tree.n.01'), Synset('rose_chestnut.n.01'), Synset('rosewood.n.02'), Synset('sandalwood_tree.n.01'), Synset('sapling.n.01'), Synset('satinwood.n.03'), Synset('scarlet_wisteria_tree.n.01'), Synset('scrub_beefwood.n.01'), Synset('shade_tree.n.01'), Synset('shaving-brush_tree.n.01'), Synset('shingle_tree.n.01'), Synset('silver_ash.n.01'), Synset('silver_tree.n.01'), Synset('silver_tree.n.02'), Synset('sissoo.n.01'), Synset('snag.n.02'), Synset('soapberry.n.01'), Synset('souari.n.01'), Synset('southern_beech.n.01'), Synset('spanish_tamarind.n.01'), Synset('tanbark_oak.n.01'), Synset('teak.n.02'), Synset('timber_tree.n.01'), Synset('tipu.n.01'), Synset('tolu_tree.n.01'), Synset('tree_of_knowledge.n.01'), Synset('treelet.n.01'), Synset('trifoliate_orange.n.01'), Synset('tulipwood_tree.n.01'), Synset('turreae.n.01'), Synset('wheel_tree.n.01'), Synset('white_mangrove.n.01'), Synset('white_mangrove.n.02'), Synset('wild_fig.n.02'), Synset('wild_medlar.n.01'), Synset('wild_tamarind.n.02'), Synset('willow.n.01'), Synset('winter's_bark.n.02'), Synset('yellowwood.n.02'), Synset('zebrawood.n.02')]\n",
      "'Synset' object has no attribute 'meronyms'\n",
      "'Synset' object has no attribute 'holonyms'\n",
      "[Synset('burl.n.02'), Synset('crown.n.07'), Synset('limb.n.02'), Synset('stump.n.01'), Synset('trunk.n.01')]\n",
      "'Synset' object has no attribute 'sisterm_terms'\n",
      "'Synset' object has no attribute 'troponyms'\n",
      "'Synset' object has no attribute 'inherited_hypernyms'\n",
      "Synset('tree.n.02')\n",
      "[Synset('plane_figure.n.01')]\n",
      "[Synset('cladogram.n.01'), Synset('stemma.n.01')]\n",
      "'Synset' object has no attribute 'meronyms'\n",
      "'Synset' object has no attribute 'holonyms'\n",
      "[]\n",
      "'Synset' object has no attribute 'sisterm_terms'\n",
      "'Synset' object has no attribute 'troponyms'\n",
      "'Synset' object has no attribute 'inherited_hypernyms'\n",
      "Synset('tree.n.03')\n",
      "[]\n",
      "[]\n",
      "'Synset' object has no attribute 'meronyms'\n",
      "'Synset' object has no attribute 'holonyms'\n",
      "[]\n",
      "'Synset' object has no attribute 'sisterm_terms'\n",
      "'Synset' object has no attribute 'troponyms'\n",
      "'Synset' object has no attribute 'inherited_hypernyms'\n",
      "Synset('corner.v.02')\n",
      "[Synset('steer.v.01')]\n",
      "[]\n",
      "'Synset' object has no attribute 'meronyms'\n",
      "'Synset' object has no attribute 'holonyms'\n",
      "[]\n",
      "'Synset' object has no attribute 'sisterm_terms'\n",
      "'Synset' object has no attribute 'troponyms'\n",
      "'Synset' object has no attribute 'inherited_hypernyms'\n",
      "Synset('tree.v.02')\n",
      "[Synset('plant.v.01')]\n",
      "[]\n",
      "'Synset' object has no attribute 'meronyms'\n",
      "'Synset' object has no attribute 'holonyms'\n",
      "[]\n",
      "'Synset' object has no attribute 'sisterm_terms'\n",
      "'Synset' object has no attribute 'troponyms'\n",
      "'Synset' object has no attribute 'inherited_hypernyms'\n",
      "Synset('tree.v.03')\n",
      "[Synset('chase.v.01')]\n",
      "[]\n",
      "'Synset' object has no attribute 'meronyms'\n",
      "'Synset' object has no attribute 'holonyms'\n",
      "[]\n",
      "'Synset' object has no attribute 'sisterm_terms'\n",
      "'Synset' object has no attribute 'troponyms'\n",
      "'Synset' object has no attribute 'inherited_hypernyms'\n",
      "Synset('tree.v.04')\n",
      "[Synset('elongate.v.01')]\n",
      "[]\n",
      "'Synset' object has no attribute 'meronyms'\n",
      "'Synset' object has no attribute 'holonyms'\n",
      "[]\n",
      "'Synset' object has no attribute 'sisterm_terms'\n",
      "'Synset' object has no attribute 'troponyms'\n",
      "'Synset' object has no attribute 'inherited_hypernyms'\n"
     ]
    }
   ],
   "source": [
    "for synset in (wn.synsets('tree')):\n",
    "        print(synset)\n",
    "        nyms = ['hypernyms', 'hyponyms', 'meronyms', 'holonyms', 'part_meronyms', 'sisterm_terms', 'troponyms', 'inherited_hypernyms']\n",
    "        for i in nyms:\n",
    "            try:\n",
    "                print(getattr(synset, i)())\n",
    "            except AttributeError as e: \n",
    "                print(e)\n",
    "                pass"
   ]
  },
  {
   "cell_type": "code",
   "execution_count": 8,
   "metadata": {
    "collapsed": false
   },
   "outputs": [
    {
     "name": "stdout",
     "output_type": "stream",
     "text": [
      "[Synset('cordage.n.01'), Synset('definite_quantity.n.01'), Synset('fundamental_quantity.n.01'), Synset('indefinite_quantity.n.01'), Synset('magnetization.n.01'), Synset('octane_number.n.01'), Synset('playing_period.n.01'), Synset('point.n.06'), Synset('probability.n.01'), Synset('proof.n.03'), Synset('quantum.n.02'), Synset('radical.n.04'), Synset('relative_quantity.n.01'), Synset('system_of_measurement.n.01'), Synset('time_interval.n.01'), Synset('time_unit.n.01'), Synset('value.n.03'), Synset('volume.n.01'), Synset('volume.n.05')]\n"
     ]
    }
   ],
   "source": [
    "word = wn.synsets(\"quantity\")[0]\n",
    "print(word.hyponyms())"
   ]
  },
  {
   "cell_type": "markdown",
   "metadata": {
    "collapsed": true
   },
   "source": [
    "## Uncommon word usages"
   ]
  },
  {
   "cell_type": "code",
   "execution_count": 80,
   "metadata": {
    "collapsed": true
   },
   "outputs": [],
   "source": [
    "def alternative_use(word): # word form: Synset('plant.n.02')\n",
    "    \n",
    "    word_syn = wn.synsets(word.name()[:-5])\n",
    "    total_count = 0\n",
    "\n",
    "    for i in range(len(word_syn)):\n",
    "        total_count += word_syn[i].lemmas()[0].count()\n",
    "\n",
    "    synset_count = word.lemmas()[0].count()\n",
    "\n",
    "    print(\"total count is:\", total_count, \"this usage count is:\", synset_count)\n",
    "\n",
    "    if total_count > synset_count *20:\n",
    "        return True\n",
    "    else: return False"
   ]
  },
  {
   "cell_type": "markdown",
   "metadata": {},
   "source": [
    "#### Example 1: endemic (count = 0 but want to keep since alternative uses also have a count of 0)"
   ]
  },
  {
   "cell_type": "code",
   "execution_count": 81,
   "metadata": {
    "collapsed": false
   },
   "outputs": [
    {
     "data": {
      "text/plain": [
       "Synset('endemic.n.02')"
      ]
     },
     "execution_count": 81,
     "metadata": {},
     "output_type": "execute_result"
    }
   ],
   "source": [
    "word = wn.synsets(\"plant\")[1].hyponyms()[10]\n",
    "word"
   ]
  },
  {
   "cell_type": "code",
   "execution_count": 82,
   "metadata": {
    "collapsed": false
   },
   "outputs": [
    {
     "name": "stdout",
     "output_type": "stream",
     "text": [
      "total count is: 0 this usage count is: 0\n"
     ]
    },
    {
     "data": {
      "text/plain": [
       "False"
      ]
     },
     "execution_count": 82,
     "metadata": {},
     "output_type": "execute_result"
    }
   ],
   "source": [
    "alternative_use(word)"
   ]
  },
  {
   "cell_type": "code",
   "execution_count": 83,
   "metadata": {
    "collapsed": false
   },
   "outputs": [
    {
     "name": "stdout",
     "output_type": "stream",
     "text": [
      "0 )  0 a disease that is constantly present to a greater or lesser degree in people of a certain class or in people living in a particular location\n",
      "1 )  0 a plant that is native to a certain limited area\n",
      "2 )  0 of or relating to a disease (or anything resembling a disease) constantly present to greater or lesser extent in a particular locality\n",
      "3 )  0 native to or confined to a certain region\n",
      "4 )  0 originating where it is found\n"
     ]
    }
   ],
   "source": [
    "for i in range(len(word_syn)):\n",
    "    print(i, \") \", word_syn[i].lemmas()[0].count(), word_syn[i].definition())"
   ]
  },
  {
   "cell_type": "markdown",
   "metadata": {},
   "source": [
    "#### Example 2: Shoot as in 'new branch': want to eliminate since there's a more common usage of the word"
   ]
  },
  {
   "cell_type": "code",
   "execution_count": 84,
   "metadata": {
    "collapsed": false
   },
   "outputs": [
    {
     "name": "stdout",
     "output_type": "stream",
     "text": [
      "total count is: 77 this usage count is: 0\n"
     ]
    },
    {
     "data": {
      "text/plain": [
       "True"
      ]
     },
     "execution_count": 84,
     "metadata": {},
     "output_type": "execute_result"
    }
   ],
   "source": [
    "alternative_use(wn.synsets(\"shoot\")[0])"
   ]
  },
  {
   "cell_type": "code",
   "execution_count": 85,
   "metadata": {
    "collapsed": false
   },
   "outputs": [
    {
     "name": "stdout",
     "output_type": "stream",
     "text": [
      "0 )  0 a new branch\n",
      "1 )  0 the act of shooting at targets\n",
      "2 )  28 hit with a missile from a weapon\n",
      "3 )  27 kill by firing a missile\n",
      "4 )  0 fire a shot\n",
      "5 )  2 make a film or photograph of something\n",
      "6 )  3 send forth suddenly, intensely, swiftly\n",
      "7 )  1 run or move very quickly or hastily\n",
      "8 )  2 move quickly and violently\n",
      "9 )  1 throw or propel in a specific direction or towards a specific objective\n",
      "10 )  9 record on photographic film\n",
      "11 )  0 emit (as light, flame, or fumes) suddenly and forcefully\n",
      "12 )  0 cause a sharp and sudden pain in\n",
      "13 )  0 force or drive (a fluid or gas) into by piercing\n",
      "14 )  0 variegate by interweaving weft threads of different colors\n",
      "15 )  0 throw dice, as in a crap game\n",
      "16 )  0 spend frivolously and unwisely\n",
      "17 )  0 score\n",
      "18 )  0 utter fast and forcefully\n",
      "19 )  0 measure the altitude of by using a sextant\n",
      "20 )  0 produce buds, branches, or germinate\n",
      "21 )  4 give an injection to\n"
     ]
    }
   ],
   "source": [
    "word = wn.synsets(\"shoot\")\n",
    "\n",
    "for i in range(len(word)):\n",
    "    print(i, \") \", word[i].lemmas()[0].count(), word[i].definition())"
   ]
  },
  {
   "cell_type": "code",
   "execution_count": null,
   "metadata": {
    "collapsed": true
   },
   "outputs": [],
   "source": []
  }
 ],
 "metadata": {
  "kernelspec": {
   "display_name": "Python 3",
   "language": "python",
   "name": "python3"
  },
  "language_info": {
   "codemirror_mode": {
    "name": "ipython",
    "version": 3
   },
   "file_extension": ".py",
   "mimetype": "text/x-python",
   "name": "python",
   "nbconvert_exporter": "python",
   "pygments_lexer": "ipython3",
   "version": "3.5.1"
  }
 },
 "nbformat": 4,
 "nbformat_minor": 0
}
