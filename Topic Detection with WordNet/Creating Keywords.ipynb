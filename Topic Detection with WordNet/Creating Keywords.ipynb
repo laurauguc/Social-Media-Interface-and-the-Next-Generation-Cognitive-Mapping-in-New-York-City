{
 "cells": [
  {
   "cell_type": "markdown",
   "metadata": {},
   "source": [
    "# Creating Keywords"
   ]
  },
  {
   "cell_type": "code",
   "execution_count": 3,
   "metadata": {
    "collapsed": true
   },
   "outputs": [],
   "source": [
    "from nltk.corpus import wordnet as wn\n",
    "\n",
    "# cognition_v = [(\"analyze\", 0), (\"think\", 3)]\n",
    "# cognition_n = [(\"knowledge\", 0)]\n",
    "\n",
    "\n",
    "\n",
    "def main():\n",
    "    for topic in topics:\n",
    "        print(\"topic:\", topic)\n",
    "        \n",
    "        list = []\n",
    "        topic_file = open('Categories/{}.txt'.format(topic), 'w')\n",
    "        \n",
    "        for category_touple in topics[topic]:\n",
    "            list.extend(bag_words(category_touple[0], category_touple[1]))\n",
    "        \n",
    "        for item in list:\n",
    "            topic_file.write(\"%s,\" % item)\n",
    "\n",
    "        topic_file.close()"
   ]
  },
  {
   "cell_type": "code",
   "execution_count": 6,
   "metadata": {
    "collapsed": false
   },
   "outputs": [],
   "source": [
    "topics = dict(maintanance_issues= [(\"repair\", 1), (\"waste\", 0), (\"damage\", 0)],\n",
    "              art_and_beauty= [(\"art\", 1), (\"picturesqueness\", 1), (\"aesthetic\", 0)],\n",
    "              weather = [(\"natural_phenomenon\", 0)],\n",
    "              security = [(\"harm\", 0), (\"security\", 1)],\n",
    "              learning = [(\"workshop\", 0), (\"learn\", 0)],\n",
    "              person = [(\"person\", 0, \"n\")],\n",
    "              food = [(\"food\", 0), (\"beverage\",0)],\n",
    "              activity = [(\"activity\", 0)],\n",
    "              event = [(\"event\", 0)],\n",
    "              travel = [(\"travel\", 4)]\n",
    "             )"
   ]
  },
  {
   "cell_type": "code",
   "execution_count": 7,
   "metadata": {
    "collapsed": false
   },
   "outputs": [],
   "source": [
    "def alternative_use(word): # word form: Synset('plant.n.02')\n",
    "    \n",
    "    word_syn = wn.synsets(word.name()[:-5])\n",
    "    total_count = 0\n",
    "\n",
    "    for i in range(len(word_syn)):\n",
    "        total_count += word_syn[i].lemmas()[0].count()\n",
    "\n",
    "    synset_count = word.lemmas()[0].count()\n",
    "\n",
    "    # print(\"total count is:\", total_count, \"this usage count is:\", synset_count)\n",
    "\n",
    "    if total_count > (synset_count * 10 + 2):\n",
    "        return True\n",
    "    else: return False\n",
    "\n",
    "\n",
    "def find_meronyms_hyponyms(word, meaning_n):\n",
    "    word = wn.synsets(word)[meaning_n]\n",
    "    #print(word.definition())\n",
    "    current = word.part_meronyms()\n",
    "    current.extend(word.hyponyms())\n",
    "    \n",
    "    lower = []\n",
    "    all = list(current)\n",
    "    \n",
    "    count = 0\n",
    "    \n",
    "    while count < len(all):\n",
    "        count = len(all)\n",
    "        for i in range(len(current)):\n",
    "            lower.append(current[i].part_meronyms())\n",
    "            lower.append(current[i].hyponyms())\n",
    "        \n",
    "        current = list(y for x in lower for y in x)\n",
    "        all.extend(current)\n",
    "        lower = list()\n",
    "            \n",
    "    return all\n",
    "\n",
    "def bag_words(word, meaning_n):\n",
    "    words_list = []\n",
    "\n",
    "    words = find_meronyms_hyponyms(word, meaning_n)\n",
    "    for word_add in words:\n",
    "        if alternative_use(word_add) is True: continue\n",
    "        if int(str(word_add)[-4:-2]) > 1: continue # first meaning\n",
    "        word_add = word_add.name()[:-5]\n",
    "        word_add = word_add.replace(\"_\", \" \")\n",
    "        words_list.append(word_add)\n",
    "    \n",
    "    words_list.append(word.replace(\"_\", \" \"))\n",
    "    \n",
    "    synonyms = wn.synsets(word)[meaning_n].lemmas()\n",
    "    for i in range(len(synonyms)):\n",
    "        words_list.append(synonyms[i].name().replace(\"_\", \" \"))\n",
    "\n",
    "    words_list = list(set(words_list))\n",
    "    print(word)\n",
    "    return words_list"
   ]
  },
  {
   "cell_type": "code",
   "execution_count": 8,
   "metadata": {
    "collapsed": false
   },
   "outputs": [
    {
     "name": "stdout",
     "output_type": "stream",
     "text": [
      "topic: event\n",
      "event\n",
      "topic: maintanance_issues\n",
      "repair\n",
      "waste\n",
      "damage\n",
      "topic: security\n",
      "harm\n",
      "security\n",
      "topic: activity\n",
      "activity\n",
      "topic: learning\n",
      "workshop\n",
      "learn\n",
      "topic: art_and_beauty\n",
      "art\n",
      "picturesqueness\n",
      "aesthetic\n",
      "topic: food\n",
      "food\n",
      "beverage\n",
      "topic: person\n",
      "person\n",
      "topic: weather\n",
      "natural_phenomenon\n",
      "topic: travel\n",
      "travel\n"
     ]
    }
   ],
   "source": [
    "if __name__ == \"__main__\": main()"
   ]
  },
  {
   "cell_type": "code",
   "execution_count": 9,
   "metadata": {
    "collapsed": false
   },
   "outputs": [
    {
     "ename": "NameError",
     "evalue": "name 'topic' is not defined",
     "output_type": "error",
     "traceback": [
      "\u001b[0;31m---------------------------------------------------------------------------\u001b[0m",
      "\u001b[0;31mNameError\u001b[0m                                 Traceback (most recent call last)",
      "\u001b[0;32m<ipython-input-9-c53569d40c10>\u001b[0m in \u001b[0;36m<module>\u001b[0;34m()\u001b[0m\n\u001b[0;32m----> 1\u001b[0;31m \u001b[0mtopic_file\u001b[0m \u001b[0;34m=\u001b[0m \u001b[0mopen\u001b[0m\u001b[0;34m(\u001b[0m\u001b[0;34m'Categories/vegetation.txt'\u001b[0m\u001b[0;34m.\u001b[0m\u001b[0mformat\u001b[0m\u001b[0;34m(\u001b[0m\u001b[0mtopic\u001b[0m\u001b[0;34m)\u001b[0m\u001b[0;34m,\u001b[0m \u001b[0;34m'w'\u001b[0m\u001b[0;34m)\u001b[0m\u001b[0;34m\u001b[0m\u001b[0m\n\u001b[0m\u001b[1;32m      2\u001b[0m \u001b[0mplant\u001b[0m \u001b[0;34m=\u001b[0m \u001b[0mbag_words\u001b[0m\u001b[0;34m(\u001b[0m\u001b[0;34m\"plant\"\u001b[0m\u001b[0;34m,\u001b[0m \u001b[0;36m1\u001b[0m\u001b[0;34m)\u001b[0m\u001b[0;34m\u001b[0m\u001b[0m\n\u001b[1;32m      3\u001b[0m \u001b[0mfood\u001b[0m \u001b[0;34m=\u001b[0m \u001b[0mbag_words\u001b[0m\u001b[0;34m(\u001b[0m\u001b[0;34m\"food\"\u001b[0m\u001b[0;34m,\u001b[0m \u001b[0;36m0\u001b[0m\u001b[0;34m)\u001b[0m\u001b[0;34m\u001b[0m\u001b[0m\n\u001b[1;32m      4\u001b[0m \u001b[0mvegetation\u001b[0m \u001b[0;34m=\u001b[0m \u001b[0;34m[\u001b[0m\u001b[0mitem\u001b[0m \u001b[0;32mfor\u001b[0m \u001b[0mitem\u001b[0m \u001b[0;32min\u001b[0m \u001b[0mplant\u001b[0m \u001b[0;32mif\u001b[0m \u001b[0mitem\u001b[0m \u001b[0;32mnot\u001b[0m \u001b[0;32min\u001b[0m \u001b[0mfood\u001b[0m\u001b[0;34m]\u001b[0m\u001b[0;34m\u001b[0m\u001b[0m\n\u001b[1;32m      5\u001b[0m \u001b[0;34m\u001b[0m\u001b[0m\n",
      "\u001b[0;31mNameError\u001b[0m: name 'topic' is not defined"
     ]
    }
   ],
   "source": [
    "topic_file = open('Categories/vegetation.txt'.format(topic), 'w')\n",
    "plant = bag_words(\"plant\", 1)\n",
    "food = bag_words(\"food\", 0)\n",
    "vegetation = [item for item in plant if item not in food]\n",
    "\n",
    "for item in vegetation:\n",
    "    topic_file.write(\"%s,\" % item)\n",
    "\n",
    "topic_file.close()"
   ]
  },
  {
   "cell_type": "code",
   "execution_count": null,
   "metadata": {
    "collapsed": false
   },
   "outputs": [],
   "source": [
    "bag_words(\"workshop\", 0)"
   ]
  },
  {
   "cell_type": "markdown",
   "metadata": {},
   "source": [
    "# Steps to improve keywork algorithm:\n",
    "\n",
    "- lemmatizing words in tweets\n",
    "\n",
    "- pre-explore categories (+ explore noun vs verb treatment)\n",
    "\n",
    "- use wiktionary to expand keywords to informal words"
   ]
  },
  {
   "cell_type": "markdown",
   "metadata": {},
   "source": [
    "# Selecting Categories\n",
    "\n",
    "Category selection process: used the List of 25 unique beginners for WordNet nouns (page 16 WordNet file) as a starting place."
   ]
  },
  {
   "cell_type": "code",
   "execution_count": 81,
   "metadata": {
    "collapsed": false,
    "scrolled": true
   },
   "outputs": [
    {
     "name": "stdout",
     "output_type": "stream",
     "text": [
      "activity\n",
      "0 ) 43 - any specific behavior\n",
      "1 ) 36 - the state of being active\n",
      "2 ) 13 - an organic process that takes place in the body\n",
      "3 ) 0 - (chemistry) the capacity of a substance to take part in a chemical reaction\n",
      "4 ) 0 - a process existing in or produced by nature (rather than by the intent of human beings)\n",
      "5 ) 0 - the trait of being active; moving or acting rapidly and energetically\n",
      "animal\n",
      "0 ) 67 - a living organism characterized by voluntary movement\n",
      "1 ) 1 - marked by the appetites and passions of the body\n",
      "artifact\n",
      "0 ) 1 - a man-made object taken as a whole\n",
      "attribute\n",
      "0 ) 2 - a construct whereby objects or individuals can be distinguished\n",
      "1 ) 1 - an abstraction belonging to or characteristic of an entity\n",
      "2 ) 16 - attribute or credit to\n",
      "3 ) 0 - decide as to where something belongs in a scheme\n",
      "body\n",
      "0 ) 113 - the entire structure of an organism (an animal, plant, or human being)\n",
      "1 ) 19 - a group of persons associated by some common tie or occupation and regarded as an entity\n",
      "2 ) 14 - a natural object consisting of a dead animal or person\n",
      "3 ) 7 - an individual 3-dimensional object that has mass and that is distinguishable from other objects\n",
      "4 ) 7 - the body excluding the head and neck and limbs\n",
      "5 ) 5 - a collection of particulars considered as a system\n",
      "6 ) 2 - the property of holding together and retaining its shape\n",
      "7 ) 1 - the central message of a communication\n",
      "8 ) 0 - the main mass of a thing\n",
      "9 ) 0 - a resonating chamber in a musical instrument (as the body of a violin)\n",
      "10 ) 0 - the external structure of a vehicle\n",
      "11 ) 0 - invest with or as with a body; give body to\n",
      "knowledge\n",
      "0 ) 45 - the psychological result of perception and learning and reasoning\n",
      "communication\n",
      "0 ) 26 - the activity of communicating; the activity of conveying information\n",
      "1 ) 9 - something that is communicated by or to or between people or groups\n",
      "2 ) 1 - a connection allowing access between persons or places\n",
      "event\n",
      "0 ) 62 - something that happens at a given place and time\n",
      "1 ) 6 - a special set of circumstances\n",
      "2 ) 0 - a phenomenon located at a single point in space-time; the fundamental observational entity in relativity theory\n",
      "3 ) 0 - a phenomenon that follows and is caused by some previous phenomenon\n",
      "feeling\n",
      "0 ) 49 - the experiencing of affective and emotional states\n",
      "1 ) 28 - a vague idea in which some confidence is placed\n",
      "2 ) 16 - the general atmosphere of a place or situation and the effect that it has on people\n",
      "3 ) 8 - a physical sensation that you experience\n",
      "4 ) 1 - the sensation produced by pressure receptors in the skin\n",
      "5 ) 0 - an intuitive understanding of something\n",
      "food\n",
      "0 ) 29 - any substance that can be metabolized by an animal to give energy and build tissue\n",
      "1 ) 0 - any solid substance (as opposed to liquid) that is used as a source of nourishment\n",
      "2 ) 0 - anything that provides mental stimulus for thinking\n",
      "collection\n",
      "0 ) 12 - several things grouped together or considered as a whole\n",
      "1 ) 1 - a publication containing a variety of works\n",
      "2 ) 1 - request for a sum of money\n",
      "3 ) 1 - the act of gathering something together\n",
      "place\n",
      "0 ) 77 - a point located with respect to surface features of some region\n",
      "1 ) 38 - any area set aside for a particular purpose\n",
      "2 ) 22 - an abstract mental location\n",
      "3 ) 17 - a general vicinity\n",
      "4 ) 9 - the post or function properly or customarily occupied or served by another\n",
      "5 ) 7 - a particular situation\n",
      "6 ) 6 - where you live at a particular time\n",
      "7 ) 4 - a job in an organization\n",
      "8 ) 3 - the particular portion of space occupied by something\n",
      "9 ) 2 - proper or designated social situation\n",
      "10 ) 2 - a space reserved for sitting (as in a theater or on a train or airplane)\n",
      "11 ) 2 - the passage that is being read\n",
      "12 ) 1 - proper or appropriate position or location\n",
      "13 ) 1 - a public square with room for pedestrians\n",
      "14 ) 1 - an item on a list or in a sequence\n",
      "15 ) 1 - a blank area\n",
      "16 ) 135 - put into a certain place or abstract location\n",
      "17 ) 13 - place somebody in a particular situation or location\n",
      "18 ) 7 - assign a rank or rating to\n",
      "19 ) 4 - assign a location to\n",
      "20 ) 4 - to arrange for\n",
      "21 ) 3 - take a place in a competition; often followed by an ordinal\n",
      "22 ) 2 - intend (something) to move towards a certain goal\n",
      "23 ) 2 - recognize as being; establish the identity of someone or something\n",
      "24 ) 1 - assign to (a job or a home)\n",
      "25 ) 1 - locate\n",
      "26 ) 1 - estimate\n",
      "27 ) 0 - identify the location or place of\n",
      "28 ) 0 - make an investment\n",
      "29 ) 0 - assign to a station\n",
      "30 ) 0 - finish second or better in a horse or dog race\n",
      "31 ) 0 - sing a note with the correct pitch\n",
      "motive\n",
      "0 ) 18 - the psychological feature that arouses an organism to action toward a desired goal; the reason for the action; that which gives purpose and direction to behavior\n",
      "1 ) 0 - a theme that is repeated or elaborated in a piece of music\n",
      "2 ) 0 - a design or figure that consists of recurring shapes or colors, as in architecture or decoration\n",
      "3 ) 1 - causing or able to cause motion\n",
      "4 ) 0 - impelling to action\n",
      "natural_object\n",
      "0 ) 0 - an object occurring naturally; not made by man\n",
      "natural_phenomenon\n",
      "0 ) 1 - all phenomena that are not artificial\n",
      "person\n",
      "0 ) 6833 - a human being\n",
      "1 ) 1 - a human body (usually including the clothing)\n",
      "2 ) 0 - a grammatical category used in the classification of pronouns, possessive determiners, and verb forms according to whether they indicate the speaker, the addressee, or a third party\n",
      "plant\n",
      "0 ) 63 - buildings for carrying on industrial labor\n",
      "1 ) 37 - (botany) a living organism lacking the power of locomotion\n",
      "2 ) 0 - an actor situated in the audience whose acting is rehearsed but seems spontaneous to the audience\n",
      "3 ) 0 - something planted secretly for discovery by another\n",
      "4 ) 8 - put or set (seeds, seedlings, or plants) into the ground\n",
      "5 ) 2 - fix or set securely or deeply\n",
      "6 ) 1 - set up or lay the groundwork for\n",
      "7 ) 0 - place into a river\n",
      "8 ) 0 - place something or someone in a certain position in order to secretly observe or deceive\n",
      "9 ) 0 - put firmly in the mind\n",
      "possession\n",
      "0 ) 10 - the act of having and controlling property\n",
      "1 ) 6 - anything owned or possessed\n",
      "2 ) 0 - being controlled by passion or the supernatural\n",
      "3 ) 0 - a mania restricted to one thing or idea\n",
      "4 ) 0 - a territory that is controlled by a ruling state\n",
      "5 ) 0 - the trait of resolutely controlling your own behavior\n",
      "6 ) 0 - (sport) the act of controlling the ball (or puck)\n",
      "process\n",
      "0 ) 63 - a particular course of action intended to achieve a result\n",
      "1 ) 3 - (psychology) the performance of some composite cognitive activity; an operation that affects mental contents\n",
      "2 ) 0 - a writ issued by authority of law; usually compels the defendant's attendance in a civil suit; failure to appear results in a default judgment against the defendant\n",
      "3 ) 0 - a mental process that you are not directly aware of\n",
      "4 ) 0 - a natural prolongation or projection from a part of an organism either animal or plant\n",
      "5 ) 0 - a sustained phenomenon or one marked by gradual changes through a series of states\n",
      "6 ) 2 - subject to a process or treatment, with the aim of readying for some purpose, improving, or remedying a condition\n",
      "7 ) 1 - deal with in a routine way\n",
      "8 ) 1 - perform mathematical and logical operations on (data) according to programmed instructions in order to obtain the required information\n",
      "9 ) 0 - institute legal proceedings against; file a suit against\n",
      "10 ) 0 - march in a procession\n",
      "11 ) 0 - shape, form, or improve a material\n",
      "12 ) 0 - deliver a warrant or summons to someone\n",
      "quantity\n",
      "0 ) 15 - how much there is or how many there are of something that you can quantify\n",
      "1 ) 7 - an adequate or large amount\n",
      "2 ) 0 - the concept that something has a magnitude and can be represented in mathematical expressions by a constant or a variable\n",
      "relation\n",
      "0 ) 23 - an abstraction belonging to or characteristic of two entities or parts together\n",
      "1 ) 2 - the act of sexual procreation between a man and a woman; the man's penis is inserted into the woman's vagina and excited until orgasm and ejaculation occur\n",
      "2 ) 0 - a person related by blood or marriage\n",
      "3 ) 0 - an act of narration\n",
      "4 ) 0 - (law) the principle that an act done at a later time is deemed by law to have occurred at an earlier time\n",
      "5 ) 0 - (usually plural) mutual dealings or connections among persons or groups\n",
      "shape\n",
      "0 ) 37 - any spatial attributes (especially as defined by outline)\n",
      "1 ) 6 - the spatial arrangement of something as distinct from its substance\n",
      "2 ) 3 - alternative names for the body of a human being\n",
      "3 ) 2 - a concrete representation of an otherwise nebulous concept\n",
      "4 ) 2 - the visual appearance of something or someone\n",
      "5 ) 1 - the state of (good) health (especially in the phrases `in condition' or `in shape' or `out of condition' or `out of shape')\n",
      "7 ) 0 - a perceptual structure\n",
      "8 ) 11 - shape or influence; give direction to\n",
      "9 ) 6 - make something, usually for a specific function\n",
      "10 ) 3 - give shape or form to\n",
      "state\n",
      "0 ) 108 - the territory occupied by one of the constituent administrative districts of a nation\n",
      "1 ) 39 - the way something is with respect to its main attributes\n",
      "2 ) 24 - the group of people comprising the government of a sovereign state\n",
      "3 ) 21 - a politically organized body of people under a single government\n",
      "4 ) 0 - (chemistry) the three traditional states of matter are solids (fixed shape and volume) and liquids (fixed volume and shaped by the container) and gases (filling the container)\n",
      "5 ) 0 - a state of depression or agitation\n",
      "6 ) 0 - the territory occupied by a nation\n",
      "8 ) 73 - express in words\n",
      "9 ) 15 - put before\n",
      "10 ) 2 - indicate through a symbol, formula, etc.\n",
      "substance\n",
      "0 ) 17 - the real physical matter of which a person or thing consists\n",
      "1 ) 2 - the choicest or most essential or most vital part of some idea or experience\n",
      "2 ) 2 - the idea that is intended\n",
      "3 ) 0 - material of a particular kind or constitution\n",
      "4 ) 0 - considerable capital (wealth or income)\n",
      "5 ) 0 - what a communication that is about something is about\n",
      "6 ) 0 - a particular kind or species of matter with uniform properties\n",
      "time\n",
      "0 ) 219 - an instance or single occasion for some event\n",
      "1 ) 160 - a period of time considered as a resource under your control and sufficient to accomplish something\n",
      "2 ) 114 - an indefinite period (usually marked by specific attributes or activities)\n",
      "3 ) 43 - a suitable moment\n",
      "4 ) 36 - the continuum of experience in which events pass from the future through the present to the past\n",
      "5 ) 10 - a person's experience on a particular occasion\n",
      "6 ) 7 - a reading of a point in time as given by a clock\n",
      "7 ) 5 - the fourth coordinate that is required (along with three spatial dimensions) to specify a physical event\n",
      "8 ) 1 - rhythm as given by division into parts of equal duration\n",
      "9 ) 0 - the period of time a prisoner is imprisoned\n",
      "10 ) 4 - measure the time or duration of an event or action or the person who performs an action in a certain period of time\n",
      "11 ) 3 - assign a time for an activity or event\n",
      "12 ) 1 - set the speed, duration, or execution of\n",
      "13 ) 0 - regulate or set the time of\n",
      "14 ) 0 - adjust so that a force is applied and an action occurs at the desired time\n"
     ]
    }
   ],
   "source": [
    "# Initial Words\n",
    "\n",
    "words = [\"activity\", \"animal\", \"artifact\", \"attribute\", \"body\", \"knowledge\", \"communication\", \"event\", \"feeling\", \"food\", \"collection\", \"place\", \"motive\", \"natural_object\", \"natural_phenomenon\", \"person\", \"plant\", \"possession\", \"process\", \"quantity\", \"relation\", \"shape\", \"state\", \"substance\", \"time\"]\n",
    "\n",
    "# Categories: words with meaning code\n",
    "\n",
    "# time definition changed from 2 to 0\n",
    "\n",
    "# see definitions below:\n",
    "\n",
    "for word in words:\n",
    "    print(word)\n",
    "    synset_w = wn.synsets(word)\n",
    "\n",
    "    for i in range(len(synset_w)):\n",
    "        try: print(i, \")\", wn.lemma(\"{}.{}\".format(str(wn.synsets(word)[i]).split(\"'\")[1], word)).count(), \"-\", wn.synsets(word)[i].definition())\n",
    "        except: pass"
   ]
  },
  {
   "cell_type": "code",
   "execution_count": 29,
   "metadata": {
    "collapsed": false
   },
   "outputs": [
    {
     "name": "stdout",
     "output_type": "stream",
     "text": [
      "0 ) an instance or single occasion for some event\n",
      "['this time he succeeded', 'he called four times', 'he could do ten at a clip'] \n",
      "\n",
      "1 ) a period of time considered as a resource under your control and sufficient to accomplish something\n",
      "['take time to smell the roses', \"I didn't have time to finish\", 'it took more than half my time'] \n",
      "\n",
      "2 ) an indefinite period (usually marked by specific attributes or activities)\n",
      "['he waited a long time', 'the time of year for planting', 'he was a great actor in his time'] \n",
      "\n",
      "3 ) a suitable moment\n",
      "['it is time to go'] \n",
      "\n",
      "4 ) the continuum of experience in which events pass from the future through the present to the past\n",
      "[] \n",
      "\n",
      "5 ) a person's experience on a particular occasion\n",
      "['he had a time holding back the tears', 'they had a good time together'] \n",
      "\n",
      "6 ) a reading of a point in time as given by a clock\n",
      "['do you know what time it is?', \"the time is 10 o'clock\"] \n",
      "\n",
      "7 ) the fourth coordinate that is required (along with three spatial dimensions) to specify a physical event\n",
      "[] \n",
      "\n",
      "8 ) rhythm as given by division into parts of equal duration\n",
      "[] \n",
      "\n",
      "9 ) the period of time a prisoner is imprisoned\n",
      "['he served a prison term of 15 months', 'his sentence was 5 to 10 years', 'he is doing time in the county jail'] \n",
      "\n",
      "10 ) measure the time or duration of an event or action or the person who performs an action in a certain period of time\n",
      "['he clocked the runners'] \n",
      "\n",
      "11 ) assign a time for an activity or event\n",
      "['The candidate carefully timed his appearance at the disaster scene'] \n",
      "\n",
      "12 ) set the speed, duration, or execution of\n",
      "['we time the process to manufacture our cars very precisely'] \n",
      "\n",
      "13 ) regulate or set the time of\n",
      "['time the clock'] \n",
      "\n",
      "14 ) adjust so that a force is applied and an action occurs at the desired time\n",
      "['The good player times his swing so as to hit the ball squarely'] \n",
      "\n"
     ]
    }
   ],
   "source": [
    "for i in range(len(wn.synsets(\"time\"))):\n",
    "    print(i, \")\", wn.synsets(\"time\")[i].definition())\n",
    "    print(wn.synsets(\"time\")[i].examples(), \"\\n\")"
   ]
  },
  {
   "cell_type": "code",
   "execution_count": 40,
   "metadata": {
    "collapsed": false
   },
   "outputs": [
    {
     "data": {
      "text/plain": [
       "True"
      ]
     },
     "execution_count": 40,
     "metadata": {},
     "output_type": "execute_result"
    }
   ],
   "source": [
    "\"plant\" in plant"
   ]
  },
  {
   "cell_type": "code",
   "execution_count": 54,
   "metadata": {
    "collapsed": false
   },
   "outputs": [
    {
     "data": {
      "text/plain": [
       "True"
      ]
     },
     "execution_count": 54,
     "metadata": {},
     "output_type": "execute_result"
    }
   ],
   "source": [
    "\"flora\" in plant"
   ]
  },
  {
   "cell_type": "code",
   "execution_count": 64,
   "metadata": {
    "collapsed": false
   },
   "outputs": [
    {
     "data": {
      "text/plain": [
       "True"
      ]
     },
     "execution_count": 64,
     "metadata": {},
     "output_type": "execute_result"
    }
   ],
   "source": [
    "\"plant life\" in plant"
   ]
  },
  {
   "cell_type": "code",
   "execution_count": 78,
   "metadata": {
    "collapsed": false
   },
   "outputs": [],
   "source": [
    "word = wn.synsets(\"flower\")[0]"
   ]
  },
  {
   "cell_type": "code",
   "execution_count": 79,
   "metadata": {
    "collapsed": false
   },
   "outputs": [
    {
     "data": {
      "text/plain": [
       "False"
      ]
     },
     "execution_count": 79,
     "metadata": {},
     "output_type": "execute_result"
    }
   ],
   "source": [
    "alternative_use(word)"
   ]
  },
  {
   "cell_type": "code",
   "execution_count": 80,
   "metadata": {
    "collapsed": false
   },
   "outputs": [
    {
     "data": {
      "text/plain": [
       "'flower'"
      ]
     },
     "execution_count": 80,
     "metadata": {},
     "output_type": "execute_result"
    }
   ],
   "source": [
    "word.name()[:-5]"
   ]
  },
  {
   "cell_type": "code",
   "execution_count": 84,
   "metadata": {
    "collapsed": false
   },
   "outputs": [
    {
     "data": {
      "text/plain": [
       "True"
      ]
     },
     "execution_count": 84,
     "metadata": {},
     "output_type": "execute_result"
    }
   ],
   "source": [
    "'flower' in plant"
   ]
  },
  {
   "cell_type": "code",
   "execution_count": 86,
   "metadata": {
    "collapsed": false
   },
   "outputs": [
    {
     "data": {
      "text/plain": [
       "False"
      ]
     },
     "execution_count": 86,
     "metadata": {},
     "output_type": "execute_result"
    }
   ],
   "source": [
    "\", plant life,\" in plant"
   ]
  },
  {
   "cell_type": "code",
   "execution_count": null,
   "metadata": {
    "collapsed": true
   },
   "outputs": [],
   "source": [
    "fkjaklgjlkjrg\n",
    "\n"
   ]
  },
  {
   "cell_type": "code",
   "execution_count": null,
   "metadata": {
    "collapsed": true
   },
   "outputs": [],
   "source": []
  }
 ],
 "metadata": {
  "kernelspec": {
   "display_name": "Python 3",
   "language": "python",
   "name": "python3"
  },
  "language_info": {
   "codemirror_mode": {
    "name": "ipython",
    "version": 3
   },
   "file_extension": ".py",
   "mimetype": "text/x-python",
   "name": "python",
   "nbconvert_exporter": "python",
   "pygments_lexer": "ipython3",
   "version": "3.5.1"
  }
 },
 "nbformat": 4,
 "nbformat_minor": 0
}
