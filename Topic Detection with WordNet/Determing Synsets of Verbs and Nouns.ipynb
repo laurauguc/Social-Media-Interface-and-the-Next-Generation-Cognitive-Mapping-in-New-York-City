{
 "cells": [
  {
   "cell_type": "markdown",
   "metadata": {},
   "source": [
    "# Exploring Category to Determine Synset"
   ]
  },
  {
   "cell_type": "markdown",
   "metadata": {},
   "source": [
    "## Cognition Verbs\n",
    "\n",
    "Verbs of thinking, judging, analyzing, doubting, etc."
   ]
  },
  {
   "cell_type": "code",
   "execution_count": 2,
   "metadata": {
    "collapsed": true
   },
   "outputs": [],
   "source": [
    "from nltk.corpus import wordnet as wn"
   ]
  },
  {
   "cell_type": "markdown",
   "metadata": {},
   "source": [
    "### Definition and Usage frequency"
   ]
  },
  {
   "cell_type": "code",
   "execution_count": 22,
   "metadata": {
    "collapsed": false
   },
   "outputs": [
    {
     "name": "stdout",
     "output_type": "stream",
     "text": [
      "#) count  definition\n",
      "0 ) 0 Synset('think.n.01') - an instance of deliberate thinking\n",
      "1 ) 274 Synset('think.v.01') - judge or regard; look upon; judge\n",
      "2 ) 188 Synset('think.v.02') - expect, believe, or suppose\n",
      "3 ) 111 Synset('think.v.03') - use or exercise the mind or one's power of reason in order to make inferences, decisions, or arrive at a solution or judgments\n",
      "4 ) 8 Synset('remember.v.01') - recall knowledge from memory; have a recollection\n",
      "5 ) 4 Synset('think.v.05') - imagine or visualize\n",
      "6 ) 3 Synset('think.v.06') - focus one's attention on a certain state\n",
      "7 ) 2 Synset('intend.v.01') - have in mind as a purpose\n",
      "8 ) 0 Synset('think.v.08') - decide by pondering, reasoning, or reflecting\n",
      "9 ) 0 Synset('think.v.09') - ponder; reflect on, or reason about\n",
      "10 ) 0 Synset('think.v.10') - dispose the mind in a certain way\n",
      "11 ) 0 Synset('think.v.11') - have or formulate in the mind\n",
      "12 ) 0 Synset('think.v.12') - be capable of conscious thought\n",
      "13 ) 0 Synset('think.v.13') - bring into a given condition by mental preoccupation\n"
     ]
    }
   ],
   "source": [
    "word = \"think\"\n",
    "\n",
    "synset_w = wn.synsets(word)\n",
    "\n",
    "print('#) count  definition')\n",
    "for i in range(len(synset_w)):\n",
    "    print(i, \")\", wn.lemma(\"{}.{}\".format(str(wn.synsets(word)[i]).split(\"'\")[1], word)).count(), wn.synsets(word)[i], \"-\", wn.synsets(word)[i].definition())"
   ]
  },
  {
   "cell_type": "code",
   "execution_count": 27,
   "metadata": {
    "collapsed": false
   },
   "outputs": [
    {
     "name": "stdout",
     "output_type": "stream",
     "text": [
      "#) count  definition\n",
      "0 ) 6 Synset('judge.n.01') - a public official authorized to decide questions brought before a court of justice\n",
      "1 ) 3 Synset('evaluator.n.01') - an authority who is able to estimate worth or quality\n",
      "2 ) 11 Synset('judge.v.01') - determine the result of (a competition)\n",
      "3 ) 8 Synset('evaluate.v.02') - form a critical opinion of\n",
      "4 ) 6 Synset('estimate.v.01') - judge tentatively or form an estimate of (quantities or time)\n",
      "5 ) 1 Synset('pronounce.v.02') - pronounce judgment on\n",
      "6 ) 0 Synset('judge.v.05') - put on trial or hear a case and sit as the judge at the trial of\n"
     ]
    }
   ],
   "source": [
    "word = \"judge\"\n",
    "\n",
    "synset_w = wn.synsets(word)\n",
    "\n",
    "print('#) count  definition')\n",
    "for i in range(len(synset_w)):\n",
    "    print(i, \")\", wn.lemma(\"{}.{}\".format(str(wn.synsets(word)[i]).split(\"'\")[1], word)).count(), wn.synsets(word)[i], \"-\", wn.synsets(word)[i].definition())"
   ]
  },
  {
   "cell_type": "code",
   "execution_count": 29,
   "metadata": {
    "collapsed": false
   },
   "outputs": [
    {
     "name": "stdout",
     "output_type": "stream",
     "text": [
      "#) count  definition\n",
      "0 ) 21 Synset('analyze.v.01') - consider in detail and subject to an analysis in order to discover essential features or meaning\n",
      "1 ) 2 Synset('analyze.v.02') - make a mathematical, chemical, or grammatical analysis of; break down into components or essential features\n",
      "2 ) 0 Synset('analyze.v.03') - break down into components or essential features\n",
      "3 ) 0 Synset('analyze.v.04') - subject to psychoanalytic treatment\n"
     ]
    }
   ],
   "source": [
    "word = \"analyze\"\n",
    "\n",
    "synset_w = wn.synsets(word)\n",
    "\n",
    "print('#) count  definition')\n",
    "for i in range(len(synset_w)):\n",
    "    print(i, \")\", wn.lemma(\"{}.{}\".format(str(wn.synsets(word)[i]).split(\"'\")[1], word)).count(), wn.synsets(word)[i], \"-\", wn.synsets(word)[i].definition())"
   ]
  },
  {
   "cell_type": "code",
   "execution_count": 30,
   "metadata": {
    "collapsed": false
   },
   "outputs": [
    {
     "name": "stdout",
     "output_type": "stream",
     "text": [
      "#) count  definition\n",
      "0 ) 26 Synset('doubt.n.01') - the state of being unsure of something\n",
      "1 ) 4 Synset('doubt.n.02') - uncertainty about the truth or factuality or existence of something\n",
      "2 ) 16 Synset('doubt.v.01') - consider unlikely or have doubts about\n",
      "3 ) 1 Synset('doubt.v.02') - lack confidence in or have doubts about\n"
     ]
    }
   ],
   "source": [
    "word = \"doubt\"\n",
    "\n",
    "synset_w = wn.synsets(word)\n",
    "\n",
    "print('#) count  definition')\n",
    "for i in range(len(synset_w)):\n",
    "    print(i, \")\", wn.lemma(\"{}.{}\".format(str(wn.synsets(word)[i]).split(\"'\")[1], word)).count(), wn.synsets(word)[i], \"-\", wn.synsets(word)[i].definition())"
   ]
  },
  {
   "cell_type": "markdown",
   "metadata": {},
   "source": [
    "### Hypernyms - multiple levels"
   ]
  },
  {
   "cell_type": "code",
   "execution_count": 25,
   "metadata": {
    "collapsed": false
   },
   "outputs": [
    {
     "name": "stdout",
     "output_type": "stream",
     "text": [
      "Synset('think.v.02')\n",
      "Synset('expect.v.01')\n",
      "Synset('evaluate.v.02')\n",
      "Synset('think.v.03')\n"
     ]
    }
   ],
   "source": [
    "meaning_n = 2 # => use # 3\n",
    "word = \"think\"\n",
    "\n",
    "no_error = True\n",
    "word = wn.synsets(word)[meaning_n]\n",
    "print(word)\n",
    "\n",
    "while no_error:\n",
    "    try:\n",
    "        word = word.hypernyms()[0]\n",
    "        print(word)\n",
    "    except: no_error = False"
   ]
  },
  {
   "cell_type": "code",
   "execution_count": 26,
   "metadata": {
    "collapsed": false
   },
   "outputs": [
    {
     "name": "stdout",
     "output_type": "stream",
     "text": [
      "Synset('think.v.03')\n"
     ]
    }
   ],
   "source": [
    "meaning_n = 3\n",
    "word = \"think\"\n",
    "\n",
    "no_error = True\n",
    "word = wn.synsets(word)[meaning_n]\n",
    "print(word)\n",
    "\n",
    "while no_error:\n",
    "    try:\n",
    "        word = word.hypernyms()[0]\n",
    "        print(word)\n",
    "    except: no_error = False"
   ]
  },
  {
   "cell_type": "code",
   "execution_count": 28,
   "metadata": {
    "collapsed": false
   },
   "outputs": [
    {
     "name": "stdout",
     "output_type": "stream",
     "text": [
      "Synset('evaluate.v.02')\n",
      "Synset('think.v.03')\n"
     ]
    }
   ],
   "source": [
    "meaning_n = 3\n",
    "word = \"judge\"\n",
    "\n",
    "no_error = True\n",
    "word = wn.synsets(word)[meaning_n]\n",
    "print(word)\n",
    "\n",
    "while no_error:\n",
    "    try:\n",
    "        word = word.hypernyms()[0]\n",
    "        print(word)\n",
    "    except: no_error = False"
   ]
  },
  {
   "cell_type": "code",
   "execution_count": 57,
   "metadata": {
    "collapsed": false
   },
   "outputs": [
    {
     "name": "stdout",
     "output_type": "stream",
     "text": [
      "Synset('analyze.v.01')\n"
     ]
    }
   ],
   "source": [
    "meaning_n = 0\n",
    "word = \"analyze\"\n",
    "\n",
    "no_error = True\n",
    "word = wn.synsets(word)[meaning_n]\n",
    "print(word)\n",
    "\n",
    "while no_error:\n",
    "    try:\n",
    "        word = word.hypernyms()[0]\n",
    "        print(word)\n",
    "    except: no_error = False"
   ]
  },
  {
   "cell_type": "code",
   "execution_count": 36,
   "metadata": {
    "collapsed": false
   },
   "outputs": [
    {
     "name": "stdout",
     "output_type": "stream",
     "text": [
      "Synset('doubt.v.01')\n",
      "Synset('disbelieve.v.01')\n",
      "Synset('reject.v.01')\n",
      "Synset('evaluate.v.02')\n",
      "Synset('think.v.03')\n"
     ]
    }
   ],
   "source": [
    "meaning_n = 2\n",
    "word = \"doubt\"\n",
    "\n",
    "no_error = True\n",
    "word = wn.synsets(word)[meaning_n]\n",
    "print(word)\n",
    "\n",
    "while no_error:\n",
    "    try:\n",
    "        word = word.hypernyms()[0]\n",
    "        print(word)\n",
    "    except: no_error = False"
   ]
  },
  {
   "cell_type": "markdown",
   "metadata": {},
   "source": [
    "### Hyponyms - 1 level"
   ]
  },
  {
   "cell_type": "code",
   "execution_count": 60,
   "metadata": {
    "collapsed": false
   },
   "outputs": [
    {
     "data": {
      "text/plain": [
       "[Synset('associate.v.01'),\n",
       " Synset('brainstorm.v.01'),\n",
       " Synset('chew_over.v.01'),\n",
       " Synset('concentrate.v.02'),\n",
       " Synset('evaluate.v.02'),\n",
       " Synset('give.v.10'),\n",
       " Synset('philosophize.v.01'),\n",
       " Synset('plan.v.02'),\n",
       " Synset('puzzle_over.v.01'),\n",
       " Synset('rationalize.v.04'),\n",
       " Synset('reason.v.01'),\n",
       " Synset('reason.v.03'),\n",
       " Synset('study.v.06'),\n",
       " Synset('think.v.08'),\n",
       " Synset('think.v.09'),\n",
       " Synset('think.v.11'),\n",
       " Synset('think_about.v.01')]"
      ]
     },
     "execution_count": 60,
     "metadata": {},
     "output_type": "execute_result"
    }
   ],
   "source": [
    "wn.synsets(\"think\")[3].hyponyms()"
   ]
  },
  {
   "cell_type": "code",
   "execution_count": 61,
   "metadata": {
    "collapsed": false
   },
   "outputs": [
    {
     "data": {
      "text/plain": [
       "[Synset('anatomize.v.02'),\n",
       " Synset('assay.v.01'),\n",
       " Synset('audit.v.01'),\n",
       " Synset('check.v.01'),\n",
       " Synset('compare.v.01'),\n",
       " Synset('diagnose.v.01'),\n",
       " Synset('diagnose.v.02'),\n",
       " Synset('investigate.v.01'),\n",
       " Synset('review.v.01'),\n",
       " Synset('screen.v.02'),\n",
       " Synset('sieve.v.02'),\n",
       " Synset('survey.v.01'),\n",
       " Synset('survey.v.05'),\n",
       " Synset('trace.v.01'),\n",
       " Synset('view.v.02')]"
      ]
     },
     "execution_count": 61,
     "metadata": {},
     "output_type": "execute_result"
    }
   ],
   "source": [
    "wn.synsets(\"analyze\")[0].hyponyms()"
   ]
  },
  {
   "cell_type": "markdown",
   "metadata": {},
   "source": [
    "### Meronyms"
   ]
  },
  {
   "cell_type": "code",
   "execution_count": 63,
   "metadata": {
    "collapsed": false
   },
   "outputs": [
    {
     "data": {
      "text/plain": [
       "[]"
      ]
     },
     "execution_count": 63,
     "metadata": {},
     "output_type": "execute_result"
    }
   ],
   "source": [
    "wn.synsets(\"think\")[3].part_meronyms()"
   ]
  },
  {
   "cell_type": "code",
   "execution_count": 64,
   "metadata": {
    "collapsed": false
   },
   "outputs": [
    {
     "data": {
      "text/plain": [
       "[]"
      ]
     },
     "execution_count": 64,
     "metadata": {},
     "output_type": "execute_result"
    }
   ],
   "source": [
    "wn.synsets(\"analyze\")[3].part_meronyms()"
   ]
  },
  {
   "cell_type": "code",
   "execution_count": 67,
   "metadata": {
    "collapsed": false
   },
   "outputs": [
    {
     "name": "stdout",
     "output_type": "stream",
     "text": [
      "<bound method _WordNetObject.part_meronyms of Synset('associate.v.01')>\n",
      "<bound method _WordNetObject.part_meronyms of Synset('brainstorm.v.01')>\n",
      "<bound method _WordNetObject.part_meronyms of Synset('chew_over.v.01')>\n",
      "<bound method _WordNetObject.part_meronyms of Synset('concentrate.v.02')>\n",
      "<bound method _WordNetObject.part_meronyms of Synset('evaluate.v.02')>\n",
      "<bound method _WordNetObject.part_meronyms of Synset('give.v.10')>\n",
      "<bound method _WordNetObject.part_meronyms of Synset('philosophize.v.01')>\n",
      "<bound method _WordNetObject.part_meronyms of Synset('plan.v.02')>\n",
      "<bound method _WordNetObject.part_meronyms of Synset('puzzle_over.v.01')>\n",
      "<bound method _WordNetObject.part_meronyms of Synset('rationalize.v.04')>\n",
      "<bound method _WordNetObject.part_meronyms of Synset('reason.v.01')>\n",
      "<bound method _WordNetObject.part_meronyms of Synset('reason.v.03')>\n",
      "<bound method _WordNetObject.part_meronyms of Synset('study.v.06')>\n",
      "<bound method _WordNetObject.part_meronyms of Synset('think.v.08')>\n",
      "<bound method _WordNetObject.part_meronyms of Synset('think.v.09')>\n",
      "<bound method _WordNetObject.part_meronyms of Synset('think.v.11')>\n",
      "<bound method _WordNetObject.part_meronyms of Synset('think_about.v.01')>\n"
     ]
    }
   ],
   "source": [
    "# meronyms of the hyponyms\n",
    "for i in range(len(wn.synsets(\"think\")[3].hyponyms())):\n",
    "    print(wn.synsets(\"think\")[3].hyponyms()[i].part_meronyms)"
   ]
  },
  {
   "cell_type": "code",
   "execution_count": 69,
   "metadata": {
    "collapsed": false
   },
   "outputs": [
    {
     "name": "stdout",
     "output_type": "stream",
     "text": [
      "<bound method _WordNetObject.part_meronyms of Synset('anatomize.v.02')>\n",
      "<bound method _WordNetObject.part_meronyms of Synset('assay.v.01')>\n",
      "<bound method _WordNetObject.part_meronyms of Synset('audit.v.01')>\n",
      "<bound method _WordNetObject.part_meronyms of Synset('check.v.01')>\n",
      "<bound method _WordNetObject.part_meronyms of Synset('compare.v.01')>\n",
      "<bound method _WordNetObject.part_meronyms of Synset('diagnose.v.01')>\n",
      "<bound method _WordNetObject.part_meronyms of Synset('diagnose.v.02')>\n",
      "<bound method _WordNetObject.part_meronyms of Synset('investigate.v.01')>\n",
      "<bound method _WordNetObject.part_meronyms of Synset('review.v.01')>\n",
      "<bound method _WordNetObject.part_meronyms of Synset('screen.v.02')>\n",
      "<bound method _WordNetObject.part_meronyms of Synset('sieve.v.02')>\n",
      "<bound method _WordNetObject.part_meronyms of Synset('survey.v.01')>\n",
      "<bound method _WordNetObject.part_meronyms of Synset('survey.v.05')>\n",
      "<bound method _WordNetObject.part_meronyms of Synset('trace.v.01')>\n",
      "<bound method _WordNetObject.part_meronyms of Synset('view.v.02')>\n"
     ]
    }
   ],
   "source": [
    "# meronyms of the hyponyms\n",
    "for i in range(len(wn.synsets(\"analyze\")[0].hyponyms())):\n",
    "    print(wn.synsets(\"analyze\")[0].hyponyms()[i].part_meronyms)"
   ]
  },
  {
   "cell_type": "markdown",
   "metadata": {},
   "source": [
    "### Holonyms"
   ]
  },
  {
   "cell_type": "code",
   "execution_count": 72,
   "metadata": {
    "collapsed": false
   },
   "outputs": [
    {
     "data": {
      "text/plain": [
       "[]"
      ]
     },
     "execution_count": 72,
     "metadata": {},
     "output_type": "execute_result"
    }
   ],
   "source": [
    "wn.synsets(\"think\")[3].part_holonyms()"
   ]
  },
  {
   "cell_type": "code",
   "execution_count": 73,
   "metadata": {
    "collapsed": false
   },
   "outputs": [
    {
     "data": {
      "text/plain": [
       "[]"
      ]
     },
     "execution_count": 73,
     "metadata": {},
     "output_type": "execute_result"
    }
   ],
   "source": [
    "wn.synsets(\"analyze\")[0].part_holonyms()"
   ]
  },
  {
   "cell_type": "markdown",
   "metadata": {},
   "source": [
    "### Synonyms"
   ]
  },
  {
   "cell_type": "code",
   "execution_count": 59,
   "metadata": {
    "collapsed": false
   },
   "outputs": [
    {
     "name": "stdout",
     "output_type": "stream",
     "text": [
      "Lemma('think.n.01.think') 0\n"
     ]
    }
   ],
   "source": [
    "word = \"think\"\n",
    "i = 3\n",
    "\n",
    "for i in range(len(wn.synsets(word)[meaning_n].lemmas())):\n",
    "    print(wn.synsets(word)[0].lemmas()[i], wn.synsets(word)[0].lemmas()[i].count())"
   ]
  },
  {
   "cell_type": "code",
   "execution_count": 74,
   "metadata": {
    "collapsed": false
   },
   "outputs": [
    {
     "name": "stdout",
     "output_type": "stream",
     "text": [
      "Lemma('analyze.v.01.analyze') 21\n",
      "Lemma('analyze.v.01.analyse') 2\n",
      "Lemma('analyze.v.01.study') 73\n",
      "Lemma('analyze.v.01.examine') 17\n",
      "Lemma('analyze.v.01.canvass') 0\n",
      "Lemma('analyze.v.01.canvas') 0\n"
     ]
    }
   ],
   "source": [
    "word = \"analyze\"\n",
    "i = 0\n",
    "\n",
    "for i in range(len(wn.synsets(word)[meaning_n].lemmas())):\n",
    "    print(wn.synsets(word)[0].lemmas()[i], wn.synsets(word)[0].lemmas()[i].count())"
   ]
  },
  {
   "cell_type": "markdown",
   "metadata": {},
   "source": [
    "### All hyponyms, meronyms, at all levels (across)"
   ]
  },
  {
   "cell_type": "code",
   "execution_count": 85,
   "metadata": {
    "collapsed": true
   },
   "outputs": [],
   "source": [
    "# the function\n",
    "\n",
    "def find_meronyms_hyponyms(word, meaning_n):\n",
    "    word = wn.synsets(word)[meaning_n]\n",
    "    #print(word.definition())\n",
    "    current = word.part_meronyms()\n",
    "    current.extend(word.hyponyms())\n",
    "    \n",
    "    lower = []\n",
    "    all = list(current)\n",
    "    \n",
    "    count = 0\n",
    "    \n",
    "    while count < len(all):\n",
    "        count = len(all)\n",
    "        for i in range(len(current)):\n",
    "            if int(str(word)[-4:-2]) > 2: continue # first 2 meanings\n",
    "            lower.append(current[i].part_meronyms())\n",
    "            lower.append(current[i].hyponyms())\n",
    "        \n",
    "        current = list(y for x in lower for y in x)\n",
    "        all.extend(current)\n",
    "        lower = list()\n",
    "            \n",
    "    return all\n",
    "\n",
    "def bag_words(word, meaning_n):\n",
    "    words_list = []\n",
    "\n",
    "    words = find_meronyms_hyponyms(word, meaning_n)\n",
    "    for i in range(len(words)):\n",
    "        word_add = words[i]\n",
    "        if int(str(word_add)[-4:-2]) > 1: continue # first meaning\n",
    "        # try:\n",
    "        #    if wn.lemma(\"{}.{}\".format(word_add.name(), word_add.name()[:-5])).count() < 1: continue # latest change (note much smaller number of words)\n",
    "        # except: pass\n",
    "        word_add = word_add.name()[:-5]\n",
    "        word_add = word_add.replace(\"_\", \" \")\n",
    "        words_list.append(word_add)\n",
    "    \n",
    "    words_list.append(word)\n",
    "    words_list = list(set(words_list))\n",
    "    \n",
    "    return words_list"
   ]
  },
  {
   "cell_type": "code",
   "execution_count": 86,
   "metadata": {
    "collapsed": false
   },
   "outputs": [
    {
     "data": {
      "text/plain": [
       "['chew over',\n",
       " 'reason',\n",
       " 'puzzle over',\n",
       " 'philosophize',\n",
       " 'think',\n",
       " 'associate',\n",
       " 'brainstorm',\n",
       " 'think about']"
      ]
     },
     "execution_count": 86,
     "metadata": {},
     "output_type": "execute_result"
    }
   ],
   "source": [
    "bag_words(\"think\", 3)"
   ]
  },
  {
   "cell_type": "code",
   "execution_count": 87,
   "metadata": {
    "collapsed": false
   },
   "outputs": [
    {
     "data": {
      "text/plain": [
       "['groak',\n",
       " 'contemplate',\n",
       " 'assay',\n",
       " 'collate',\n",
       " 'stand guard',\n",
       " 'guard',\n",
       " 'probe',\n",
       " 'rehear',\n",
       " 'experiment',\n",
       " 'circularize',\n",
       " 'audit',\n",
       " 'poll',\n",
       " 'trace',\n",
       " 'baby-sit',\n",
       " 'cast about',\n",
       " 'google',\n",
       " 're-explore',\n",
       " 'mapquest',\n",
       " 'check',\n",
       " 'put out feelers',\n",
       " 'investigate',\n",
       " 'patrol',\n",
       " 'diagnose',\n",
       " 'review',\n",
       " 'research',\n",
       " 'analogize',\n",
       " 're-examine',\n",
       " 'keep tabs on',\n",
       " 'bioassay',\n",
       " 'invigilate',\n",
       " 'survey',\n",
       " 'compare',\n",
       " 'analyze']"
      ]
     },
     "execution_count": 87,
     "metadata": {},
     "output_type": "execute_result"
    }
   ],
   "source": [
    "bag_words(\"analyze\", 0)"
   ]
  },
  {
   "cell_type": "markdown",
   "metadata": {},
   "source": [
    "## Cognition Nouns"
   ]
  },
  {
   "cell_type": "markdown",
   "metadata": {},
   "source": [
    "### Definition and Usage Frequency"
   ]
  },
  {
   "cell_type": "code",
   "execution_count": 3,
   "metadata": {
    "collapsed": false
   },
   "outputs": [
    {
     "name": "stdout",
     "output_type": "stream",
     "text": [
      "#) count  definition\n",
      "0 ) 7 Synset('restaurant.n.01') - a building where people go to eat\n"
     ]
    }
   ],
   "source": [
    "word = \"\"\n",
    "\n",
    "synset_w = wn.synsets(word)\n",
    "\n",
    "print('#) count  definition')\n",
    "for i in range(len(synset_w)):\n",
    "    print(i, \")\", wn.lemma(\"{}.{}\".format(str(wn.synsets(word)[i]).split(\"'\")[1], word)).count(), wn.synsets(word)[i], \"-\", wn.synsets(word)[i].definition())"
   ]
  },
  {
   "cell_type": "code",
   "execution_count": 4,
   "metadata": {
    "collapsed": false
   },
   "outputs": [
    {
     "name": "stdout",
     "output_type": "stream",
     "text": [
      "#) count  definition\n",
      "0 ) 7 Synset('restaurant.n.01') - a building where people go to eat\n"
     ]
    }
   ],
   "source": [
    "word = \"\" # (same as 'knowledge')\n",
    "\n",
    "synset_w = wn.synsets(word)\n",
    "\n",
    "print('#) count  definition')\n",
    "for i in range(len(synset_w)):\n",
    "    print(i, \")\", wn.lemma(\"{}.{}\".format(str(wn.synsets(word)[i]).split(\"'\")[1], word)).count(), wn.synsets(word)[i], \"-\", wn.synsets(word)[i].definition())"
   ]
  },
  {
   "cell_type": "markdown",
   "metadata": {},
   "source": [
    "### Hypernyms (multiple levels)"
   ]
  },
  {
   "cell_type": "code",
   "execution_count": 5,
   "metadata": {
    "collapsed": false
   },
   "outputs": [
    {
     "name": "stdout",
     "output_type": "stream",
     "text": [
      "Synset('restaurant.n.01')\n",
      "Synset('building.n.01')\n",
      "Synset('structure.n.01')\n",
      "Synset('artifact.n.01')\n",
      "Synset('whole.n.02')\n",
      "Synset('object.n.01')\n",
      "Synset('physical_entity.n.01')\n",
      "Synset('entity.n.01')\n"
     ]
    }
   ],
   "source": [
    "meaning_n = 0 \n",
    "\n",
    "no_error = True\n",
    "word = wn.synsets(word)[meaning_n]\n",
    "print(word)\n",
    "\n",
    "while no_error:\n",
    "    try:\n",
    "        word = word.hypernyms()[0]\n",
    "        print(word)\n",
    "    except: no_error = False"
   ]
  },
  {
   "cell_type": "markdown",
   "metadata": {},
   "source": [
    "### Hyponyms (1 level)"
   ]
  },
  {
   "cell_type": "code",
   "execution_count": 95,
   "metadata": {
    "collapsed": false
   },
   "outputs": [
    {
     "data": {
      "text/plain": [
       "[Synset('ability.n.02'),\n",
       " Synset('attitude.n.01'),\n",
       " Synset('cognitive_factor.n.01'),\n",
       " Synset('content.n.05'),\n",
       " Synset('episteme.n.01'),\n",
       " Synset('equivalent.n.01'),\n",
       " Synset('history.n.05'),\n",
       " Synset('inability.n.01'),\n",
       " Synset('information.n.02'),\n",
       " Synset('lexis.n.01'),\n",
       " Synset('mind.n.01'),\n",
       " Synset('perception.n.04'),\n",
       " Synset('place.n.03'),\n",
       " Synset('practice.n.05'),\n",
       " Synset('process.n.02'),\n",
       " Synset('process.n.04'),\n",
       " Synset('public_knowledge.n.01'),\n",
       " Synset('structure.n.03'),\n",
       " Synset('vocabulary.n.02')]"
      ]
     },
     "execution_count": 95,
     "metadata": {},
     "output_type": "execute_result"
    }
   ],
   "source": [
    "wn.synsets(\"cognition\")[0].hyponyms()"
   ]
  },
  {
   "cell_type": "markdown",
   "metadata": {},
   "source": [
    "### Meronyms"
   ]
  },
  {
   "cell_type": "code",
   "execution_count": 99,
   "metadata": {
    "collapsed": false
   },
   "outputs": [
    {
     "data": {
      "text/plain": [
       "[]"
      ]
     },
     "execution_count": 99,
     "metadata": {},
     "output_type": "execute_result"
    }
   ],
   "source": [
    "wn.synsets(\"cognition\")[0].part_meronyms()"
   ]
  },
  {
   "cell_type": "code",
   "execution_count": 100,
   "metadata": {
    "collapsed": false
   },
   "outputs": [
    {
     "name": "stdout",
     "output_type": "stream",
     "text": [
      "<bound method _WordNetObject.part_meronyms of Synset('ability.n.02')>\n",
      "<bound method _WordNetObject.part_meronyms of Synset('attitude.n.01')>\n",
      "<bound method _WordNetObject.part_meronyms of Synset('cognitive_factor.n.01')>\n",
      "<bound method _WordNetObject.part_meronyms of Synset('content.n.05')>\n",
      "<bound method _WordNetObject.part_meronyms of Synset('episteme.n.01')>\n",
      "<bound method _WordNetObject.part_meronyms of Synset('equivalent.n.01')>\n",
      "<bound method _WordNetObject.part_meronyms of Synset('history.n.05')>\n",
      "<bound method _WordNetObject.part_meronyms of Synset('inability.n.01')>\n",
      "<bound method _WordNetObject.part_meronyms of Synset('information.n.02')>\n",
      "<bound method _WordNetObject.part_meronyms of Synset('lexis.n.01')>\n",
      "<bound method _WordNetObject.part_meronyms of Synset('mind.n.01')>\n",
      "<bound method _WordNetObject.part_meronyms of Synset('perception.n.04')>\n",
      "<bound method _WordNetObject.part_meronyms of Synset('place.n.03')>\n",
      "<bound method _WordNetObject.part_meronyms of Synset('practice.n.05')>\n",
      "<bound method _WordNetObject.part_meronyms of Synset('process.n.02')>\n",
      "<bound method _WordNetObject.part_meronyms of Synset('process.n.04')>\n",
      "<bound method _WordNetObject.part_meronyms of Synset('public_knowledge.n.01')>\n",
      "<bound method _WordNetObject.part_meronyms of Synset('structure.n.03')>\n",
      "<bound method _WordNetObject.part_meronyms of Synset('vocabulary.n.02')>\n"
     ]
    }
   ],
   "source": [
    "# meronyms of the hyponyms\n",
    "for i in range(len(wn.synsets(\"cognition\")[0].hyponyms())):\n",
    "    print(wn.synsets(\"cognition\")[0].hyponyms()[i].part_meronyms)"
   ]
  },
  {
   "cell_type": "markdown",
   "metadata": {},
   "source": [
    "### Holonyms"
   ]
  },
  {
   "cell_type": "code",
   "execution_count": 101,
   "metadata": {
    "collapsed": false
   },
   "outputs": [
    {
     "data": {
      "text/plain": [
       "[]"
      ]
     },
     "execution_count": 101,
     "metadata": {},
     "output_type": "execute_result"
    }
   ],
   "source": [
    "wn.synsets(\"cognition\")[0].part_holonyms()"
   ]
  },
  {
   "cell_type": "markdown",
   "metadata": {},
   "source": [
    "### Synonyms"
   ]
  },
  {
   "cell_type": "code",
   "execution_count": 103,
   "metadata": {
    "collapsed": false
   },
   "outputs": [
    {
     "data": {
      "text/plain": [
       "[Lemma('cognition.n.01.cognition'),\n",
       " Lemma('cognition.n.01.knowledge'),\n",
       " Lemma('cognition.n.01.noesis')]"
      ]
     },
     "execution_count": 103,
     "metadata": {},
     "output_type": "execute_result"
    }
   ],
   "source": [
    "wn.synsets(\"knowledge\")[0].lemmas()"
   ]
  },
  {
   "cell_type": "markdown",
   "metadata": {
    "collapsed": true
   },
   "source": [
    "# Other Words"
   ]
  },
  {
   "cell_type": "markdown",
   "metadata": {},
   "source": [
    "## Definition"
   ]
  },
  {
   "cell_type": "code",
   "execution_count": 247,
   "metadata": {
    "collapsed": false
   },
   "outputs": [
    {
     "name": "stdout",
     "output_type": "stream",
     "text": [
      "#) count  definition\n",
      "0 ) 6 Synset('workshop.n.01') - small workplace where handcrafts or manufacturing are done\n",
      "1 ) 2 Synset('workshop.n.02') - a brief intensive course for a small group; emphasizes problem solving\n"
     ]
    }
   ],
   "source": [
    "word = \"workshop\"\n",
    "\n",
    "synset_w = wn.synsets(word)\n",
    "\n",
    "print('#) count  definition')\n",
    "for i in range(len(synset_w)):\n",
    "    print(i, \")\", wn.lemma(\"{}.{}\".format(str(wn.synsets(word)[i]).split(\"'\")[1], word)).count(), wn.synsets(word)[i], \"-\", wn.synsets(word)[i].definition())"
   ]
  },
  {
   "cell_type": "markdown",
   "metadata": {},
   "source": [
    "## Hypernyms (multiple levels)"
   ]
  },
  {
   "cell_type": "code",
   "execution_count": 248,
   "metadata": {
    "collapsed": false
   },
   "outputs": [
    {
     "name": "stdout",
     "output_type": "stream",
     "text": [
      "Synset('workshop.n.01')\n",
      "Synset('workplace.n.01')\n",
      "Synset('geographic_point.n.01')\n",
      "Synset('point.n.02')\n",
      "Synset('location.n.01')\n",
      "Synset('object.n.01')\n",
      "Synset('physical_entity.n.01')\n",
      "Synset('entity.n.01')\n"
     ]
    }
   ],
   "source": [
    "meaning_n = 0\n",
    "word = wn.synsets(word)[meaning_n]\n",
    "\n",
    "no_error = True\n",
    "hyper = word\n",
    "\n",
    "print(word)\n",
    "\n",
    "while no_error:\n",
    "    try:\n",
    "        hyper = hyper.hypernyms()[0]\n",
    "        print(hyper)\n",
    "\n",
    "    except: no_error = False"
   ]
  },
  {
   "cell_type": "markdown",
   "metadata": {},
   "source": [
    "## Hyponyms (one level)"
   ]
  },
  {
   "cell_type": "code",
   "execution_count": 249,
   "metadata": {
    "collapsed": false
   },
   "outputs": [
    {
     "data": {
      "text/plain": [
       "[Synset('bindery.n.01'),\n",
       " Synset('bookbindery.n.01'),\n",
       " Synset('brickyard.n.01'),\n",
       " Synset('chop_shop.n.01'),\n",
       " Synset('dye-works.n.01'),\n",
       " Synset('machine_shop.n.01'),\n",
       " Synset('pottery.n.03'),\n",
       " Synset('print_shop.n.01'),\n",
       " Synset('saddlery.n.02'),\n",
       " Synset('sheltered_workshop.n.01'),\n",
       " Synset('turnery.n.01')]"
      ]
     },
     "execution_count": 249,
     "metadata": {},
     "output_type": "execute_result"
    }
   ],
   "source": [
    "word.hyponyms()"
   ]
  },
  {
   "cell_type": "markdown",
   "metadata": {},
   "source": [
    "## Meronyms"
   ]
  },
  {
   "cell_type": "code",
   "execution_count": 250,
   "metadata": {
    "collapsed": false
   },
   "outputs": [
    {
     "data": {
      "text/plain": [
       "[]"
      ]
     },
     "execution_count": 250,
     "metadata": {},
     "output_type": "execute_result"
    }
   ],
   "source": [
    "word.part_meronyms()"
   ]
  },
  {
   "cell_type": "code",
   "execution_count": 263,
   "metadata": {
    "collapsed": false
   },
   "outputs": [
    {
     "name": "stdout",
     "output_type": "stream",
     "text": [
      "Synset('bindery.n.01')\n",
      "Synset('bookbindery.n.01')\n",
      "Synset('brickyard.n.01')\n",
      "Synset('chop_shop.n.01')\n",
      "Synset('dye-works.n.01')\n",
      "Synset('machine_shop.n.01')\n",
      "Synset('pottery.n.03')\n",
      "Synset('print_shop.n.01')\n",
      "Synset('saddlery.n.02')\n",
      "Synset('sheltered_workshop.n.01')\n",
      "Synset('turnery.n.01')\n"
     ]
    }
   ],
   "source": [
    "## meryonyms of hyonyms\n",
    "\n",
    "for word_i in word.hyponyms():\n",
    "    print(word_i)\n",
    "    for word_n in word_i.part_meronyms():\n",
    "        print(word_n)"
   ]
  },
  {
   "cell_type": "markdown",
   "metadata": {},
   "source": [
    "## Holonyms"
   ]
  },
  {
   "cell_type": "code",
   "execution_count": 252,
   "metadata": {
    "collapsed": false
   },
   "outputs": [
    {
     "data": {
      "text/plain": [
       "[]"
      ]
     },
     "execution_count": 252,
     "metadata": {},
     "output_type": "execute_result"
    }
   ],
   "source": [
    "word.part_holonyms()"
   ]
  },
  {
   "cell_type": "markdown",
   "metadata": {},
   "source": [
    "## Synonyms"
   ]
  },
  {
   "cell_type": "code",
   "execution_count": 253,
   "metadata": {
    "collapsed": false
   },
   "outputs": [
    {
     "data": {
      "text/plain": [
       "[Lemma('workshop.n.01.workshop'), Lemma('workshop.n.01.shop')]"
      ]
     },
     "execution_count": 253,
     "metadata": {},
     "output_type": "execute_result"
    }
   ],
   "source": [
    "word.lemmas()"
   ]
  },
  {
   "cell_type": "code",
   "execution_count": 254,
   "metadata": {
    "collapsed": false
   },
   "outputs": [
    {
     "data": {
      "text/plain": [
       "Synset('workshop.n.01')"
      ]
     },
     "execution_count": 254,
     "metadata": {},
     "output_type": "execute_result"
    }
   ],
   "source": [
    "word"
   ]
  },
  {
   "cell_type": "markdown",
   "metadata": {
    "collapsed": true
   },
   "source": [
    "# Visualize Tree of Words"
   ]
  },
  {
   "cell_type": "code",
   "execution_count": 256,
   "metadata": {
    "collapsed": false
   },
   "outputs": [
    {
     "name": "stdout",
     "output_type": "stream",
     "text": [
      "bindery.n.01\n",
      "bookbindery.n.01\n",
      "brickyard.n.01\n",
      "chop_shop.n.01\n",
      "dye-works.n.01\n",
      "machine_shop.n.01\n",
      "pottery.n.03\n",
      "print_shop.n.01\n",
      "saddlery.n.02\n",
      "sheltered_workshop.n.01\n",
      "turnery.n.01\n"
     ]
    }
   ],
   "source": [
    "word = \"workshop\"\n",
    "meaning_n = 0\n",
    "\n",
    "word = wn.synsets(word)[meaning_n]\n",
    "list_words = []\n",
    "\n",
    "for w in word.hyponyms():\n",
    "    list_words.append(w)\n",
    "    print(w.name())\n",
    "    for i in w.hyponyms():\n",
    "        list_words.append(i)\n",
    "        print(\"\\t\",i.name())\n",
    "        for a in i.hyponyms():\n",
    "            list_words.append(a)\n",
    "            print(\"\\t\\t\", a.name())\n",
    "            for b in a.hyponyms():\n",
    "                list_words.append(b)\n",
    "                print(\"\\t\\t\", b.name())"
   ]
  },
  {
   "cell_type": "code",
   "execution_count": 233,
   "metadata": {
    "collapsed": false
   },
   "outputs": [],
   "source": [
    "for w in list_words:\n",
    "    if len(w.part_meronyms()) > 0:\n",
    "        print(w.name())\n",
    "        print(\"\\t\",w.part_meronyms())"
   ]
  },
  {
   "cell_type": "code",
   "execution_count": 151,
   "metadata": {
    "collapsed": false
   },
   "outputs": [
    {
     "ename": "AttributeError",
     "evalue": "'Synset' object has no attribute 'meronyms'",
     "output_type": "error",
     "traceback": [
      "\u001b[0;31m---------------------------------------------------------------------------\u001b[0m",
      "\u001b[0;31mAttributeError\u001b[0m                            Traceback (most recent call last)",
      "\u001b[0;32m<ipython-input-151-805be03bbfd8>\u001b[0m in \u001b[0;36m<module>\u001b[0;34m()\u001b[0m\n\u001b[0;32m----> 1\u001b[0;31m \u001b[0mlist_words\u001b[0m\u001b[0;34m[\u001b[0m\u001b[0;36m1\u001b[0m\u001b[0;34m]\u001b[0m\u001b[0;34m.\u001b[0m\u001b[0mmeronyms\u001b[0m\u001b[0;34m(\u001b[0m\u001b[0;34m)\u001b[0m\u001b[0;34m\u001b[0m\u001b[0m\n\u001b[0m",
      "\u001b[0;31mAttributeError\u001b[0m: 'Synset' object has no attribute 'meronyms'"
     ]
    }
   ],
   "source": [
    "list_words[1].meronyms()"
   ]
  },
  {
   "cell_type": "code",
   "execution_count": null,
   "metadata": {
    "collapsed": true
   },
   "outputs": [],
   "source": []
  }
 ],
 "metadata": {
  "kernelspec": {
   "display_name": "Python 3",
   "language": "python",
   "name": "python3"
  },
  "language_info": {
   "codemirror_mode": {
    "name": "ipython",
    "version": 3
   },
   "file_extension": ".py",
   "mimetype": "text/x-python",
   "name": "python",
   "nbconvert_exporter": "python",
   "pygments_lexer": "ipython3",
   "version": "3.5.1"
  }
 },
 "nbformat": 4,
 "nbformat_minor": 0
}
